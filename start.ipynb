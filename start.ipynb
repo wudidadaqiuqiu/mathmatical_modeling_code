{
 "cells": [
  {
   "cell_type": "markdown",
   "metadata": {},
   "source": []
  },
  {
   "cell_type": "markdown",
   "metadata": {},
   "source": [
    "## jupyter notebook 能干什么"
   ]
  },
  {
   "cell_type": "code",
   "execution_count": 1,
   "metadata": {},
   "outputs": [
    {
     "data": {
      "application/vnd.jupyter.widget-view+json": {
       "model_id": "e15f1a7a4985448899a54a310ff7f759",
       "version_major": 2,
       "version_minor": 0
      },
      "text/plain": [
       "interactive(children=(Dropdown(description='排序方式', options=('姓名', '年龄', '性别', '分数'), value='姓名'), Output()), _…"
      ]
     },
     "metadata": {},
     "output_type": "display_data"
    },
    {
     "data": {
      "text/plain": [
       "<function __main__.show_table(排序方式)>"
      ]
     },
     "execution_count": 1,
     "metadata": {},
     "output_type": "execute_result"
    }
   ],
   "source": [
    "import pandas as pd\n",
    "from ipywidgets import interact\n",
    "from IPython.display import display\n",
    "\n",
    "# 示例数据\n",
    "data = {\n",
    "    '姓名': ['张三', '李四', '王五', '赵六'],\n",
    "    '年龄': [28, 30, 25, 29],\n",
    "    '性别': ['男', '男', '女', '男'],\n",
    "    '分数': [85, 92, 78, 88]\n",
    "}\n",
    "\n",
    "# 创建 DataFrame\n",
    "df = pd.DataFrame(data)\n",
    "\n",
    "# 定义交互式函数来展示表格\n",
    "def show_table(排序方式):\n",
    "    display(df.sort_values(排序方式))\n",
    "\n",
    "# 使用 ipywidgets 的 interact 函数来创建交互式小部件\n",
    "interact(show_table, 排序方式=['姓名', '年龄', '性别', '分数'])\n",
    "# 需要启用最新的jupyter notebook扩展 以及运行命令 pip install --upgrade ipywidgets"
   ]
  }
 ],
 "metadata": {
  "kernelspec": {
   "display_name": "Python 3",
   "language": "python",
   "name": "python3"
  },
  "language_info": {
   "codemirror_mode": {
    "name": "ipython",
    "version": 3
   },
   "file_extension": ".py",
   "mimetype": "text/x-python",
   "name": "python",
   "nbconvert_exporter": "python",
   "pygments_lexer": "ipython3",
   "version": "3.11.2"
  },
  "orig_nbformat": 4
 },
 "nbformat": 4,
 "nbformat_minor": 2
}
