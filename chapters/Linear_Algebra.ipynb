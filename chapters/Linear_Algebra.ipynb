{
 "cells": [
  {
   "cell_type": "markdown",
   "metadata": {},
   "source": [
    "# 线性代数 Linear Algebra"
   ]
  },
  {
   "cell_type": "markdown",
   "metadata": {},
   "source": [
    "## 奇异值 Singular Value\n",
    "[推导](https://zhuanlan.zhihu.com/p/269329826#:~:text=%E8%BF%99%E5%B0%B1%E5%BC%95%E5%87%BA%E4%BA%86SVD%E5%A5%87%E5%BC%82%E5%80%BC%E7%9A%84%E5%88%86%E8%A7%A3%EF%BC%9A%20%E8%80%83%E8%99%91%E4%B8%80%E4%B8%AA%E7%9F%A9%E9%98%B5M%EF%BC%8C%E5%A4%A7%E5%B0%8F%E4%B8%BAm%2An%20%E9%82%A3%E4%B9%88%E6%8E%A8%E5%AF%BC%E7%9A%84%E6%AD%A5%E9%AA%A4%E4%B8%BA%EF%BC%9A%20%E6%AD%A5%E9%AA%A4%E4%B8%80%EF%BC%9A%20%E5%8F%96%20M%5ETM,%E5%85%88%E5%8F%98%E6%88%90%E4%B8%80%E4%B8%AA%E6%96%B9%E9%98%B5%EF%BC%8C%E6%B3%A8%E6%84%8F%E8%BF%99%E4%B8%AA%E7%9B%B8%E4%B9%98%E5%90%8E%E5%BE%97%E5%88%B0%E7%9A%84%E7%9F%A9%E9%98%B5%E8%BF%98%E6%98%AF%E5%AF%B9%E7%A7%B0%E7%9A%84%E3%80%82%20%E6%AD%A5%E9%AA%A4%E4%BA%8C%EF%BC%9A%20%E5%AF%B9%20M%5ETM%2C%E6%9D%A5%E8%AF%B4%EF%BC%8C%E5%AD%98%E5%9C%A8%E4%B8%80%E4%B8%AA%E6%AD%A3%E4%BA%A4%E7%9F%A9%E9%98%B5Q%E4%BD%BF%E5%BE%97%20Q%5ETM%5ETMQ%3Ddiag%20%28lambda_1%2Clambda_2...%29)"
   ]
  },
  {
   "cell_type": "code",
   "execution_count": 2,
   "metadata": {},
   "outputs": [
    {
     "data": {
      "text/html": [
       "<pre style=\"white-space:pre;overflow-x:auto;line-height:normal;font-family:Menlo,'DejaVu Sans Mono',consolas,'Courier New',monospace\"><span style=\"font-weight: bold\">[[</span> <span style=\"color: #008080; text-decoration-color: #008080; font-weight: bold\">0.70710678</span> <span style=\"color: #008080; text-decoration-color: #008080; font-weight: bold\">-0.70710678</span>  <span style=\"color: #008080; text-decoration-color: #008080; font-weight: bold\">0</span>.        <span style=\"font-weight: bold\">]</span>\n",
       " <span style=\"font-weight: bold\">[</span> <span style=\"color: #008080; text-decoration-color: #008080; font-weight: bold\">0.70710678</span>  <span style=\"color: #008080; text-decoration-color: #008080; font-weight: bold\">0.70710678</span>  <span style=\"color: #008080; text-decoration-color: #008080; font-weight: bold\">0</span>.        <span style=\"font-weight: bold\">]</span>\n",
       " <span style=\"font-weight: bold\">[</span> <span style=\"color: #008080; text-decoration-color: #008080; font-weight: bold\">0</span>.          <span style=\"color: #008080; text-decoration-color: #008080; font-weight: bold\">0</span>.          <span style=\"color: #008080; text-decoration-color: #008080; font-weight: bold\">1</span>.        <span style=\"font-weight: bold\">]]</span>\n",
       "\n",
       "<span style=\"font-weight: bold\">[</span> <span style=\"color: #008080; text-decoration-color: #008080; font-weight: bold\">1.73205081</span>  <span style=\"color: #008080; text-decoration-color: #008080; font-weight: bold\">1</span>.         <span style=\"color: #008080; text-decoration-color: #008080; font-weight: bold\">-0</span>.        <span style=\"font-weight: bold\">]</span>\n",
       "\n",
       "<span style=\"font-weight: bold\">[[</span> <span style=\"color: #008080; text-decoration-color: #008080; font-weight: bold\">4.08248290e-01</span>  <span style=\"color: #008080; text-decoration-color: #008080; font-weight: bold\">4.08248290e-01</span>  <span style=\"color: #008080; text-decoration-color: #008080; font-weight: bold\">8.16496581e-01</span><span style=\"font-weight: bold\">]</span>\n",
       " <span style=\"font-weight: bold\">[</span><span style=\"color: #008080; text-decoration-color: #008080; font-weight: bold\">-7.07106781e-01</span>  <span style=\"color: #008080; text-decoration-color: #008080; font-weight: bold\">7.07106781e-01</span>  <span style=\"color: #008080; text-decoration-color: #008080; font-weight: bold\">2.22044605e-16</span><span style=\"font-weight: bold\">]</span>\n",
       " <span style=\"font-weight: bold\">[</span> <span style=\"color: #008080; text-decoration-color: #008080; font-weight: bold\">5.77350269e-01</span>  <span style=\"color: #008080; text-decoration-color: #008080; font-weight: bold\">5.77350269e-01</span> <span style=\"color: #008080; text-decoration-color: #008080; font-weight: bold\">-5.77350269e-01</span><span style=\"font-weight: bold\">]]</span>\n",
       "</pre>\n"
      ],
      "text/plain": [
       "\u001b[1m[\u001b[0m\u001b[1m[\u001b[0m \u001b[1;36m0.70710678\u001b[0m \u001b[1;36m-0.70710678\u001b[0m  \u001b[1;36m0\u001b[0m.        \u001b[1m]\u001b[0m\n",
       " \u001b[1m[\u001b[0m \u001b[1;36m0.70710678\u001b[0m  \u001b[1;36m0.70710678\u001b[0m  \u001b[1;36m0\u001b[0m.        \u001b[1m]\u001b[0m\n",
       " \u001b[1m[\u001b[0m \u001b[1;36m0\u001b[0m.          \u001b[1;36m0\u001b[0m.          \u001b[1;36m1\u001b[0m.        \u001b[1m]\u001b[0m\u001b[1m]\u001b[0m\n",
       "\n",
       "\u001b[1m[\u001b[0m \u001b[1;36m1.73205081\u001b[0m  \u001b[1;36m1\u001b[0m.         \u001b[1;36m-0\u001b[0m.        \u001b[1m]\u001b[0m\n",
       "\n",
       "\u001b[1m[\u001b[0m\u001b[1m[\u001b[0m \u001b[1;36m4.08248290e-01\u001b[0m  \u001b[1;36m4.08248290e-01\u001b[0m  \u001b[1;36m8.16496581e-01\u001b[0m\u001b[1m]\u001b[0m\n",
       " \u001b[1m[\u001b[0m\u001b[1;36m-7.07106781e-01\u001b[0m  \u001b[1;36m7.07106781e-01\u001b[0m  \u001b[1;36m2.22044605e-16\u001b[0m\u001b[1m]\u001b[0m\n",
       " \u001b[1m[\u001b[0m \u001b[1;36m5.77350269e-01\u001b[0m  \u001b[1;36m5.77350269e-01\u001b[0m \u001b[1;36m-5.77350269e-01\u001b[0m\u001b[1m]\u001b[0m\u001b[1m]\u001b[0m\n"
      ]
     },
     "metadata": {},
     "output_type": "display_data"
    }
   ],
   "source": [
    "from rich import print\n",
    "import numpy as np\n",
    "\n",
    "a = np.array([[1, 0, 1], [0, 1, 1], [0, 0, 0]])\n",
    "U, S, VT = np.linalg.svd(a)  # a = U @ np.diag(S) @ VT\n",
    "print(U, S, VT, sep='\\n\\n')"
   ]
  },
  {
   "cell_type": "code",
   "execution_count": null,
   "metadata": {},
   "outputs": [],
   "source": []
  }
 ],
 "metadata": {
  "kernelspec": {
   "display_name": "Python 3",
   "language": "python",
   "name": "python3"
  },
  "language_info": {
   "codemirror_mode": {
    "name": "ipython",
    "version": 3
   },
   "file_extension": ".py",
   "mimetype": "text/x-python",
   "name": "python",
   "nbconvert_exporter": "python",
   "pygments_lexer": "ipython3",
   "version": "3.11.2"
  },
  "orig_nbformat": 4
 },
 "nbformat": 4,
 "nbformat_minor": 2
}
