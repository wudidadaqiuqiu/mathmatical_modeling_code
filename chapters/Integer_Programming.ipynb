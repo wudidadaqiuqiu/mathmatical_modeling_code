{
 "cells": [
  {
   "cell_type": "markdown",
   "metadata": {},
   "source": [
    "# 整数规划 Integer Progrmming"
   ]
  },
  {
   "cell_type": "code",
   "execution_count": 1,
   "metadata": {},
   "outputs": [],
   "source": [
    "import os\n",
    "os.chdir('..')  # 改变工作路径"
   ]
  },
  {
   "cell_type": "markdown",
   "metadata": {},
   "source": [
    "## 女子体操选人\n",
    "\n",
    "![](./attachments/IntegerProgramming_gymnastics.png)\n",
    "\n",
    "**这里的数据就不截图了，直接使用..datastructure.probability.pmf.ProbabilityMassFunction 类来表示某运动员在某一项中得分的的分布律，有10个运动员，4个小项，总共有24个分布律。**"
   ]
  },
  {
   "cell_type": "markdown",
   "metadata": {},
   "source": [
    "先导入数据，这里用了分数而不是浮点作为元数据，虽然使最后一轮跑了3分钟而不是十多秒，但提高了精度"
   ]
  },
  {
   "cell_type": "code",
   "execution_count": 2,
   "metadata": {},
   "outputs": [
    {
     "data": {
      "text/html": [
       "<pre style=\"white-space:pre;overflow-x:auto;line-height:normal;font-family:Menlo,'DejaVu Sans Mono',consolas,'Courier New',monospace\"><span style=\"font-weight: bold\">(</span><span style=\"color: #008080; text-decoration-color: #008080; font-weight: bold\">4</span>, <span style=\"color: #008080; text-decoration-color: #008080; font-weight: bold\">10</span><span style=\"font-weight: bold\">)</span>\n",
       "</pre>\n"
      ],
      "text/plain": [
       "\u001b[1m(\u001b[0m\u001b[1;36m4\u001b[0m, \u001b[1;36m10\u001b[0m\u001b[1m)\u001b[0m\n"
      ]
     },
     "metadata": {},
     "output_type": "display_data"
    }
   ],
   "source": [
    "import numpy as np\n",
    "from rich import print\n",
    "from dataclasses import dataclass\n",
    "from datastructure.probability.pmf import ProbabilityMassFunction as PMF\n",
    "from datastructure.probability.pmf import (create_pmftree, graph_pmftree, plot_pmf, plot_cdf)\n",
    "from fractions import Fraction\n",
    "@dataclass\n",
    "class ProbabilityMass:  # 辅助\n",
    "    \"\"\"p_p: ((float,), float)\"\"\"\n",
    "    p_p: tuple\n",
    "\n",
    "def probability_mass(point: float, probability: float):\n",
    "    \"\"\"不能返回序列, 如元组, 因为ndarray需要元素的类型一致, 故返回一个辅助的对象\"\"\"\n",
    "    return ProbabilityMass(((point,), probability))  # (point,) 一个元素的元组需要加个','\n",
    "\n",
    "with open('./chapters/attachments/IP_gym_grade.txt', 'r', encoding='utf-8') as f:\n",
    "    # grade = list(map(float, f.read().strip().split('\\n')))\n",
    "    grade = list(map(Fraction, f.read().strip().split('\\n')))  # 改为分数提高精度\n",
    "with open('./chapters/attachments/IP_gym_probability.txt', 'r', encoding='utf-8') as f:\n",
    "    # probability = list(map(float, f.read().strip().split('\\n')))\n",
    "    probability = list(map(Fraction, f.read().strip().split('\\n')))\n",
    "grade, probability = [np.array(arr).reshape(4, 10, 4) for arr in [grade, probability]]\n",
    "# reshappe (1, 160) -> (4, 10, 4)\n",
    "pmfs = np.vectorize(probability_mass)(grade, probability)  # 对最小单位元素进行操作\n",
    "pmfs: np.ndarray = np.apply_along_axis(lambda x: PMF([ele.p_p for ele in x]), 2, pmfs)\n",
    "# 选定axis(2)进行操作, lambda输入实参即 (4, 10, 4) 中的第二个4, 一个四维向量\n",
    "print(pmfs.shape)  # pmfs: np.ndarray[PMF]\n"
   ]
  },
  {
   "cell_type": "markdown",
   "metadata": {},
   "source": [
    "列出规划方程：\n",
    "$$\n",
    "min \\sum\\limits_{i=1}^{4} \\sum\\limits_{j=1}^{10} c_{ij} x_{ij}\n",
    "$$ \n",
    "$$\n",
    "s.t. \n",
    "    \\begin{cases}\n",
    "    \\sum\\limits_{i=1}^{4} \\sum\\limits_{j=1}^{10} x_{ij} = 24 \\\\\n",
    "    \\sum\\limits_{j=1}^{10} x_{ij} = 6 \\\\\n",
    "    \\sum\\limits_{j=1}^{10} s_{j} = 4 \\\\\n",
    "    \\sum\\limits_{i=1}^{4} x_{ij} >= 4 s_{j},\\space j = 1, 2, ..., 10. \\\\\n",
    "    x_{ij}, s_{ij} = 0 \\space or \\space 1,\\space i = 1, 2, 3, 4, j = 1, 2, ..., 10. \\\\\n",
    "    \\end{cases}\n",
    "$$\n",
    "其中$ c_{ij} $因题意而变\n",
    "第二小题有点棘手，根据题意，最自然的想法是求 $max\\{P(X >= 236.2)\\}$ 但为了使问题简单得足矣解决，下面的解法求了 $ max\\{E(X)\\} $ 求出来的方案是不可能大于等于236.2"
   ]
  },
  {
   "cell_type": "code",
   "execution_count": 3,
   "metadata": {},
   "outputs": [
    {
     "data": {
      "text/html": [
       "<pre style=\"white-space:pre;overflow-x:auto;line-height:normal;font-family:Menlo,'DejaVu Sans Mono',consolas,'Courier New',monospace\"><span style=\"font-weight: bold\">[[</span><span style=\"color: #800080; text-decoration-color: #800080; font-weight: bold\">Fraction</span><span style=\"font-weight: bold\">(</span><span style=\"color: #008080; text-decoration-color: #008080; font-weight: bold\">19</span>, <span style=\"color: #008080; text-decoration-color: #008080; font-weight: bold\">2</span><span style=\"font-weight: bold\">)</span> <span style=\"color: #800080; text-decoration-color: #800080; font-weight: bold\">Fraction</span><span style=\"font-weight: bold\">(</span><span style=\"color: #008080; text-decoration-color: #008080; font-weight: bold\">49</span>, <span style=\"color: #008080; text-decoration-color: #008080; font-weight: bold\">5</span><span style=\"font-weight: bold\">)</span> <span style=\"color: #800080; text-decoration-color: #800080; font-weight: bold\">Fraction</span><span style=\"font-weight: bold\">(</span><span style=\"color: #008080; text-decoration-color: #008080; font-weight: bold\">10</span>, <span style=\"color: #008080; text-decoration-color: #008080; font-weight: bold\">1</span><span style=\"font-weight: bold\">)</span> <span style=\"color: #800080; text-decoration-color: #800080; font-weight: bold\">Fraction</span><span style=\"font-weight: bold\">(</span><span style=\"color: #008080; text-decoration-color: #008080; font-weight: bold\">19</span>, <span style=\"color: #008080; text-decoration-color: #008080; font-weight: bold\">2</span><span style=\"font-weight: bold\">)</span>\n",
       "  <span style=\"color: #800080; text-decoration-color: #800080; font-weight: bold\">Fraction</span><span style=\"font-weight: bold\">(</span><span style=\"color: #008080; text-decoration-color: #008080; font-weight: bold\">19</span>, <span style=\"color: #008080; text-decoration-color: #008080; font-weight: bold\">2</span><span style=\"font-weight: bold\">)</span> <span style=\"color: #800080; text-decoration-color: #800080; font-weight: bold\">Fraction</span><span style=\"font-weight: bold\">(</span><span style=\"color: #008080; text-decoration-color: #008080; font-weight: bold\">99</span>, <span style=\"color: #008080; text-decoration-color: #008080; font-weight: bold\">10</span><span style=\"font-weight: bold\">)</span> <span style=\"color: #800080; text-decoration-color: #800080; font-weight: bold\">Fraction</span><span style=\"font-weight: bold\">(</span><span style=\"color: #008080; text-decoration-color: #008080; font-weight: bold\">10</span>, <span style=\"color: #008080; text-decoration-color: #008080; font-weight: bold\">1</span><span style=\"font-weight: bold\">)</span> <span style=\"color: #800080; text-decoration-color: #800080; font-weight: bold\">Fraction</span><span style=\"font-weight: bold\">(</span><span style=\"color: #008080; text-decoration-color: #008080; font-weight: bold\">10</span>, <span style=\"color: #008080; text-decoration-color: #008080; font-weight: bold\">1</span><span style=\"font-weight: bold\">)</span>\n",
       "  <span style=\"color: #800080; text-decoration-color: #800080; font-weight: bold\">Fraction</span><span style=\"font-weight: bold\">(</span><span style=\"color: #008080; text-decoration-color: #008080; font-weight: bold\">19</span>, <span style=\"color: #008080; text-decoration-color: #008080; font-weight: bold\">2</span><span style=\"font-weight: bold\">)</span> <span style=\"color: #800080; text-decoration-color: #800080; font-weight: bold\">Fraction</span><span style=\"font-weight: bold\">(</span><span style=\"color: #008080; text-decoration-color: #008080; font-weight: bold\">97</span>, <span style=\"color: #008080; text-decoration-color: #008080; font-weight: bold\">10</span><span style=\"font-weight: bold\">)]</span>\n",
       " <span style=\"font-weight: bold\">[</span><span style=\"color: #800080; text-decoration-color: #800080; font-weight: bold\">Fraction</span><span style=\"font-weight: bold\">(</span><span style=\"color: #008080; text-decoration-color: #008080; font-weight: bold\">10</span>, <span style=\"color: #008080; text-decoration-color: #008080; font-weight: bold\">1</span><span style=\"font-weight: bold\">)</span> <span style=\"color: #800080; text-decoration-color: #800080; font-weight: bold\">Fraction</span><span style=\"font-weight: bold\">(</span><span style=\"color: #008080; text-decoration-color: #008080; font-weight: bold\">47</span>, <span style=\"color: #008080; text-decoration-color: #008080; font-weight: bold\">5</span><span style=\"font-weight: bold\">)</span> <span style=\"color: #800080; text-decoration-color: #800080; font-weight: bold\">Fraction</span><span style=\"font-weight: bold\">(</span><span style=\"color: #008080; text-decoration-color: #008080; font-weight: bold\">19</span>, <span style=\"color: #008080; text-decoration-color: #008080; font-weight: bold\">2</span><span style=\"font-weight: bold\">)</span> <span style=\"color: #800080; text-decoration-color: #800080; font-weight: bold\">Fraction</span><span style=\"font-weight: bold\">(</span><span style=\"color: #008080; text-decoration-color: #008080; font-weight: bold\">99</span>, <span style=\"color: #008080; text-decoration-color: #008080; font-weight: bold\">10</span><span style=\"font-weight: bold\">)</span>\n",
       "  <span style=\"color: #800080; text-decoration-color: #800080; font-weight: bold\">Fraction</span><span style=\"font-weight: bold\">(</span><span style=\"color: #008080; text-decoration-color: #008080; font-weight: bold\">97</span>, <span style=\"color: #008080; text-decoration-color: #008080; font-weight: bold\">10</span><span style=\"font-weight: bold\">)</span> <span style=\"color: #800080; text-decoration-color: #800080; font-weight: bold\">Fraction</span><span style=\"font-weight: bold\">(</span><span style=\"color: #008080; text-decoration-color: #008080; font-weight: bold\">99</span>, <span style=\"color: #008080; text-decoration-color: #008080; font-weight: bold\">10</span><span style=\"font-weight: bold\">)</span> <span style=\"color: #800080; text-decoration-color: #800080; font-weight: bold\">Fraction</span><span style=\"font-weight: bold\">(</span><span style=\"color: #008080; text-decoration-color: #008080; font-weight: bold\">10</span>, <span style=\"color: #008080; text-decoration-color: #008080; font-weight: bold\">1</span><span style=\"font-weight: bold\">)</span> <span style=\"color: #800080; text-decoration-color: #800080; font-weight: bold\">Fraction</span><span style=\"font-weight: bold\">(</span><span style=\"color: #008080; text-decoration-color: #008080; font-weight: bold\">10</span>, <span style=\"color: #008080; text-decoration-color: #008080; font-weight: bold\">1</span><span style=\"font-weight: bold\">)</span>\n",
       "  <span style=\"color: #800080; text-decoration-color: #800080; font-weight: bold\">Fraction</span><span style=\"font-weight: bold\">(</span><span style=\"color: #008080; text-decoration-color: #008080; font-weight: bold\">49</span>, <span style=\"color: #008080; text-decoration-color: #008080; font-weight: bold\">5</span><span style=\"font-weight: bold\">)</span> <span style=\"color: #800080; text-decoration-color: #800080; font-weight: bold\">Fraction</span><span style=\"font-weight: bold\">(</span><span style=\"color: #008080; text-decoration-color: #008080; font-weight: bold\">19</span>, <span style=\"color: #008080; text-decoration-color: #008080; font-weight: bold\">2</span><span style=\"font-weight: bold\">)]</span>\n",
       " <span style=\"font-weight: bold\">[</span><span style=\"color: #800080; text-decoration-color: #800080; font-weight: bold\">Fraction</span><span style=\"font-weight: bold\">(</span><span style=\"color: #008080; text-decoration-color: #008080; font-weight: bold\">49</span>, <span style=\"color: #008080; text-decoration-color: #008080; font-weight: bold\">5</span><span style=\"font-weight: bold\">)</span> <span style=\"color: #800080; text-decoration-color: #800080; font-weight: bold\">Fraction</span><span style=\"font-weight: bold\">(</span><span style=\"color: #008080; text-decoration-color: #008080; font-weight: bold\">10</span>, <span style=\"color: #008080; text-decoration-color: #008080; font-weight: bold\">1</span><span style=\"font-weight: bold\">)</span> <span style=\"color: #800080; text-decoration-color: #800080; font-weight: bold\">Fraction</span><span style=\"font-weight: bold\">(</span><span style=\"color: #008080; text-decoration-color: #008080; font-weight: bold\">19</span>, <span style=\"color: #008080; text-decoration-color: #008080; font-weight: bold\">2</span><span style=\"font-weight: bold\">)</span> <span style=\"color: #800080; text-decoration-color: #800080; font-weight: bold\">Fraction</span><span style=\"font-weight: bold\">(</span><span style=\"color: #008080; text-decoration-color: #008080; font-weight: bold\">97</span>, <span style=\"color: #008080; text-decoration-color: #008080; font-weight: bold\">10</span><span style=\"font-weight: bold\">)</span>\n",
       "  <span style=\"color: #800080; text-decoration-color: #800080; font-weight: bold\">Fraction</span><span style=\"font-weight: bold\">(</span><span style=\"color: #008080; text-decoration-color: #008080; font-weight: bold\">93</span>, <span style=\"color: #008080; text-decoration-color: #008080; font-weight: bold\">10</span><span style=\"font-weight: bold\">)</span> <span style=\"color: #800080; text-decoration-color: #800080; font-weight: bold\">Fraction</span><span style=\"font-weight: bold\">(</span><span style=\"color: #008080; text-decoration-color: #008080; font-weight: bold\">91</span>, <span style=\"color: #008080; text-decoration-color: #008080; font-weight: bold\">10</span><span style=\"font-weight: bold\">)</span> <span style=\"color: #800080; text-decoration-color: #800080; font-weight: bold\">Fraction</span><span style=\"font-weight: bold\">(</span><span style=\"color: #008080; text-decoration-color: #008080; font-weight: bold\">93</span>, <span style=\"color: #008080; text-decoration-color: #008080; font-weight: bold\">10</span><span style=\"font-weight: bold\">)</span> <span style=\"color: #800080; text-decoration-color: #800080; font-weight: bold\">Fraction</span><span style=\"font-weight: bold\">(</span><span style=\"color: #008080; text-decoration-color: #008080; font-weight: bold\">99</span>, <span style=\"color: #008080; text-decoration-color: #008080; font-weight: bold\">10</span><span style=\"font-weight: bold\">)</span>\n",
       "  <span style=\"color: #800080; text-decoration-color: #800080; font-weight: bold\">Fraction</span><span style=\"font-weight: bold\">(</span><span style=\"color: #008080; text-decoration-color: #008080; font-weight: bold\">10</span>, <span style=\"color: #008080; text-decoration-color: #008080; font-weight: bold\">1</span><span style=\"font-weight: bold\">)</span> <span style=\"color: #800080; text-decoration-color: #800080; font-weight: bold\">Fraction</span><span style=\"font-weight: bold\">(</span><span style=\"color: #008080; text-decoration-color: #008080; font-weight: bold\">48</span>, <span style=\"color: #008080; text-decoration-color: #008080; font-weight: bold\">5</span><span style=\"font-weight: bold\">)]</span>\n",
       " <span style=\"font-weight: bold\">[</span><span style=\"color: #800080; text-decoration-color: #800080; font-weight: bold\">Fraction</span><span style=\"font-weight: bold\">(</span><span style=\"color: #008080; text-decoration-color: #008080; font-weight: bold\">99</span>, <span style=\"color: #008080; text-decoration-color: #008080; font-weight: bold\">10</span><span style=\"font-weight: bold\">)</span> <span style=\"color: #800080; text-decoration-color: #800080; font-weight: bold\">Fraction</span><span style=\"font-weight: bold\">(</span><span style=\"color: #008080; text-decoration-color: #008080; font-weight: bold\">48</span>, <span style=\"color: #008080; text-decoration-color: #008080; font-weight: bold\">5</span><span style=\"font-weight: bold\">)</span> <span style=\"color: #800080; text-decoration-color: #800080; font-weight: bold\">Fraction</span><span style=\"font-weight: bold\">(</span><span style=\"color: #008080; text-decoration-color: #008080; font-weight: bold\">10</span>, <span style=\"color: #008080; text-decoration-color: #008080; font-weight: bold\">1</span><span style=\"font-weight: bold\">)</span> <span style=\"color: #800080; text-decoration-color: #800080; font-weight: bold\">Fraction</span><span style=\"font-weight: bold\">(</span><span style=\"color: #008080; text-decoration-color: #008080; font-weight: bold\">10</span>, <span style=\"color: #008080; text-decoration-color: #008080; font-weight: bold\">1</span><span style=\"font-weight: bold\">)</span>\n",
       "  <span style=\"color: #800080; text-decoration-color: #800080; font-weight: bold\">Fraction</span><span style=\"font-weight: bold\">(</span><span style=\"color: #008080; text-decoration-color: #008080; font-weight: bold\">99</span>, <span style=\"color: #008080; text-decoration-color: #008080; font-weight: bold\">10</span><span style=\"font-weight: bold\">)</span> <span style=\"color: #800080; text-decoration-color: #800080; font-weight: bold\">Fraction</span><span style=\"font-weight: bold\">(</span><span style=\"color: #008080; text-decoration-color: #008080; font-weight: bold\">19</span>, <span style=\"color: #008080; text-decoration-color: #008080; font-weight: bold\">2</span><span style=\"font-weight: bold\">)</span> <span style=\"color: #800080; text-decoration-color: #800080; font-weight: bold\">Fraction</span><span style=\"font-weight: bold\">(</span><span style=\"color: #008080; text-decoration-color: #008080; font-weight: bold\">49</span>, <span style=\"color: #008080; text-decoration-color: #008080; font-weight: bold\">5</span><span style=\"font-weight: bold\">)</span> <span style=\"color: #800080; text-decoration-color: #800080; font-weight: bold\">Fraction</span><span style=\"font-weight: bold\">(</span><span style=\"color: #008080; text-decoration-color: #008080; font-weight: bold\">49</span>, <span style=\"color: #008080; text-decoration-color: #008080; font-weight: bold\">5</span><span style=\"font-weight: bold\">)</span>\n",
       "  <span style=\"color: #800080; text-decoration-color: #800080; font-weight: bold\">Fraction</span><span style=\"font-weight: bold\">(</span><span style=\"color: #008080; text-decoration-color: #008080; font-weight: bold\">99</span>, <span style=\"color: #008080; text-decoration-color: #008080; font-weight: bold\">10</span><span style=\"font-weight: bold\">)</span> <span style=\"color: #800080; text-decoration-color: #800080; font-weight: bold\">Fraction</span><span style=\"font-weight: bold\">(</span><span style=\"color: #008080; text-decoration-color: #008080; font-weight: bold\">49</span>, <span style=\"color: #008080; text-decoration-color: #008080; font-weight: bold\">5</span><span style=\"font-weight: bold\">)]]</span>\n",
       "</pre>\n"
      ],
      "text/plain": [
       "\u001b[1m[\u001b[0m\u001b[1m[\u001b[0m\u001b[1;35mFraction\u001b[0m\u001b[1m(\u001b[0m\u001b[1;36m19\u001b[0m, \u001b[1;36m2\u001b[0m\u001b[1m)\u001b[0m \u001b[1;35mFraction\u001b[0m\u001b[1m(\u001b[0m\u001b[1;36m49\u001b[0m, \u001b[1;36m5\u001b[0m\u001b[1m)\u001b[0m \u001b[1;35mFraction\u001b[0m\u001b[1m(\u001b[0m\u001b[1;36m10\u001b[0m, \u001b[1;36m1\u001b[0m\u001b[1m)\u001b[0m \u001b[1;35mFraction\u001b[0m\u001b[1m(\u001b[0m\u001b[1;36m19\u001b[0m, \u001b[1;36m2\u001b[0m\u001b[1m)\u001b[0m\n",
       "  \u001b[1;35mFraction\u001b[0m\u001b[1m(\u001b[0m\u001b[1;36m19\u001b[0m, \u001b[1;36m2\u001b[0m\u001b[1m)\u001b[0m \u001b[1;35mFraction\u001b[0m\u001b[1m(\u001b[0m\u001b[1;36m99\u001b[0m, \u001b[1;36m10\u001b[0m\u001b[1m)\u001b[0m \u001b[1;35mFraction\u001b[0m\u001b[1m(\u001b[0m\u001b[1;36m10\u001b[0m, \u001b[1;36m1\u001b[0m\u001b[1m)\u001b[0m \u001b[1;35mFraction\u001b[0m\u001b[1m(\u001b[0m\u001b[1;36m10\u001b[0m, \u001b[1;36m1\u001b[0m\u001b[1m)\u001b[0m\n",
       "  \u001b[1;35mFraction\u001b[0m\u001b[1m(\u001b[0m\u001b[1;36m19\u001b[0m, \u001b[1;36m2\u001b[0m\u001b[1m)\u001b[0m \u001b[1;35mFraction\u001b[0m\u001b[1m(\u001b[0m\u001b[1;36m97\u001b[0m, \u001b[1;36m10\u001b[0m\u001b[1m)\u001b[0m\u001b[1m]\u001b[0m\n",
       " \u001b[1m[\u001b[0m\u001b[1;35mFraction\u001b[0m\u001b[1m(\u001b[0m\u001b[1;36m10\u001b[0m, \u001b[1;36m1\u001b[0m\u001b[1m)\u001b[0m \u001b[1;35mFraction\u001b[0m\u001b[1m(\u001b[0m\u001b[1;36m47\u001b[0m, \u001b[1;36m5\u001b[0m\u001b[1m)\u001b[0m \u001b[1;35mFraction\u001b[0m\u001b[1m(\u001b[0m\u001b[1;36m19\u001b[0m, \u001b[1;36m2\u001b[0m\u001b[1m)\u001b[0m \u001b[1;35mFraction\u001b[0m\u001b[1m(\u001b[0m\u001b[1;36m99\u001b[0m, \u001b[1;36m10\u001b[0m\u001b[1m)\u001b[0m\n",
       "  \u001b[1;35mFraction\u001b[0m\u001b[1m(\u001b[0m\u001b[1;36m97\u001b[0m, \u001b[1;36m10\u001b[0m\u001b[1m)\u001b[0m \u001b[1;35mFraction\u001b[0m\u001b[1m(\u001b[0m\u001b[1;36m99\u001b[0m, \u001b[1;36m10\u001b[0m\u001b[1m)\u001b[0m \u001b[1;35mFraction\u001b[0m\u001b[1m(\u001b[0m\u001b[1;36m10\u001b[0m, \u001b[1;36m1\u001b[0m\u001b[1m)\u001b[0m \u001b[1;35mFraction\u001b[0m\u001b[1m(\u001b[0m\u001b[1;36m10\u001b[0m, \u001b[1;36m1\u001b[0m\u001b[1m)\u001b[0m\n",
       "  \u001b[1;35mFraction\u001b[0m\u001b[1m(\u001b[0m\u001b[1;36m49\u001b[0m, \u001b[1;36m5\u001b[0m\u001b[1m)\u001b[0m \u001b[1;35mFraction\u001b[0m\u001b[1m(\u001b[0m\u001b[1;36m19\u001b[0m, \u001b[1;36m2\u001b[0m\u001b[1m)\u001b[0m\u001b[1m]\u001b[0m\n",
       " \u001b[1m[\u001b[0m\u001b[1;35mFraction\u001b[0m\u001b[1m(\u001b[0m\u001b[1;36m49\u001b[0m, \u001b[1;36m5\u001b[0m\u001b[1m)\u001b[0m \u001b[1;35mFraction\u001b[0m\u001b[1m(\u001b[0m\u001b[1;36m10\u001b[0m, \u001b[1;36m1\u001b[0m\u001b[1m)\u001b[0m \u001b[1;35mFraction\u001b[0m\u001b[1m(\u001b[0m\u001b[1;36m19\u001b[0m, \u001b[1;36m2\u001b[0m\u001b[1m)\u001b[0m \u001b[1;35mFraction\u001b[0m\u001b[1m(\u001b[0m\u001b[1;36m97\u001b[0m, \u001b[1;36m10\u001b[0m\u001b[1m)\u001b[0m\n",
       "  \u001b[1;35mFraction\u001b[0m\u001b[1m(\u001b[0m\u001b[1;36m93\u001b[0m, \u001b[1;36m10\u001b[0m\u001b[1m)\u001b[0m \u001b[1;35mFraction\u001b[0m\u001b[1m(\u001b[0m\u001b[1;36m91\u001b[0m, \u001b[1;36m10\u001b[0m\u001b[1m)\u001b[0m \u001b[1;35mFraction\u001b[0m\u001b[1m(\u001b[0m\u001b[1;36m93\u001b[0m, \u001b[1;36m10\u001b[0m\u001b[1m)\u001b[0m \u001b[1;35mFraction\u001b[0m\u001b[1m(\u001b[0m\u001b[1;36m99\u001b[0m, \u001b[1;36m10\u001b[0m\u001b[1m)\u001b[0m\n",
       "  \u001b[1;35mFraction\u001b[0m\u001b[1m(\u001b[0m\u001b[1;36m10\u001b[0m, \u001b[1;36m1\u001b[0m\u001b[1m)\u001b[0m \u001b[1;35mFraction\u001b[0m\u001b[1m(\u001b[0m\u001b[1;36m48\u001b[0m, \u001b[1;36m5\u001b[0m\u001b[1m)\u001b[0m\u001b[1m]\u001b[0m\n",
       " \u001b[1m[\u001b[0m\u001b[1;35mFraction\u001b[0m\u001b[1m(\u001b[0m\u001b[1;36m99\u001b[0m, \u001b[1;36m10\u001b[0m\u001b[1m)\u001b[0m \u001b[1;35mFraction\u001b[0m\u001b[1m(\u001b[0m\u001b[1;36m48\u001b[0m, \u001b[1;36m5\u001b[0m\u001b[1m)\u001b[0m \u001b[1;35mFraction\u001b[0m\u001b[1m(\u001b[0m\u001b[1;36m10\u001b[0m, \u001b[1;36m1\u001b[0m\u001b[1m)\u001b[0m \u001b[1;35mFraction\u001b[0m\u001b[1m(\u001b[0m\u001b[1;36m10\u001b[0m, \u001b[1;36m1\u001b[0m\u001b[1m)\u001b[0m\n",
       "  \u001b[1;35mFraction\u001b[0m\u001b[1m(\u001b[0m\u001b[1;36m99\u001b[0m, \u001b[1;36m10\u001b[0m\u001b[1m)\u001b[0m \u001b[1;35mFraction\u001b[0m\u001b[1m(\u001b[0m\u001b[1;36m19\u001b[0m, \u001b[1;36m2\u001b[0m\u001b[1m)\u001b[0m \u001b[1;35mFraction\u001b[0m\u001b[1m(\u001b[0m\u001b[1;36m49\u001b[0m, \u001b[1;36m5\u001b[0m\u001b[1m)\u001b[0m \u001b[1;35mFraction\u001b[0m\u001b[1m(\u001b[0m\u001b[1;36m49\u001b[0m, \u001b[1;36m5\u001b[0m\u001b[1m)\u001b[0m\n",
       "  \u001b[1;35mFraction\u001b[0m\u001b[1m(\u001b[0m\u001b[1;36m99\u001b[0m, \u001b[1;36m10\u001b[0m\u001b[1m)\u001b[0m \u001b[1;35mFraction\u001b[0m\u001b[1m(\u001b[0m\u001b[1;36m49\u001b[0m, \u001b[1;36m5\u001b[0m\u001b[1m)\u001b[0m\u001b[1m]\u001b[0m\u001b[1m]\u001b[0m\n"
      ]
     },
     "metadata": {},
     "output_type": "display_data"
    },
    {
     "data": {
      "text/html": [
       "<pre style=\"white-space:pre;overflow-x:auto;line-height:normal;font-family:Menlo,'DejaVu Sans Mono',consolas,'Courier New',monospace\"><span style=\"color: #008080; text-decoration-color: #008080; font-weight: bold\">236.6</span>\n",
       "</pre>\n"
      ],
      "text/plain": [
       "\u001b[1;36m236.6\u001b[0m\n"
      ]
     },
     "metadata": {},
     "output_type": "display_data"
    },
    {
     "data": {
      "text/html": [
       "<pre style=\"white-space:pre;overflow-x:auto;line-height:normal;font-family:Menlo,'DejaVu Sans Mono',consolas,'Courier New',monospace\"><span style=\"font-weight: bold\">[[</span><span style=\"color: #008080; text-decoration-color: #008080; font-weight: bold\">1</span>. <span style=\"color: #008080; text-decoration-color: #008080; font-weight: bold\">0</span>. <span style=\"color: #008080; text-decoration-color: #008080; font-weight: bold\">1</span>. <span style=\"color: #008080; text-decoration-color: #008080; font-weight: bold\">0</span>. <span style=\"color: #008080; text-decoration-color: #008080; font-weight: bold\">0</span>. <span style=\"color: #008080; text-decoration-color: #008080; font-weight: bold\">1</span>. <span style=\"color: #008080; text-decoration-color: #008080; font-weight: bold\">1</span>. <span style=\"color: #008080; text-decoration-color: #008080; font-weight: bold\">1</span>. <span style=\"color: #008080; text-decoration-color: #008080; font-weight: bold\">1</span>. <span style=\"color: #008080; text-decoration-color: #008080; font-weight: bold\">0</span>.<span style=\"font-weight: bold\">]</span>\n",
       " <span style=\"font-weight: bold\">[</span><span style=\"color: #008080; text-decoration-color: #008080; font-weight: bold\">1</span>. <span style=\"color: #008080; text-decoration-color: #008080; font-weight: bold\">0</span>. <span style=\"color: #008080; text-decoration-color: #008080; font-weight: bold\">0</span>. <span style=\"color: #008080; text-decoration-color: #008080; font-weight: bold\">1</span>. <span style=\"color: #008080; text-decoration-color: #008080; font-weight: bold\">0</span>. <span style=\"color: #008080; text-decoration-color: #008080; font-weight: bold\">1</span>. <span style=\"color: #008080; text-decoration-color: #008080; font-weight: bold\">1</span>. <span style=\"color: #008080; text-decoration-color: #008080; font-weight: bold\">1</span>. <span style=\"color: #008080; text-decoration-color: #008080; font-weight: bold\">1</span>. <span style=\"color: #008080; text-decoration-color: #008080; font-weight: bold\">0</span>.<span style=\"font-weight: bold\">]</span>\n",
       " <span style=\"font-weight: bold\">[</span><span style=\"color: #008080; text-decoration-color: #008080; font-weight: bold\">1</span>. <span style=\"color: #008080; text-decoration-color: #008080; font-weight: bold\">1</span>. <span style=\"color: #008080; text-decoration-color: #008080; font-weight: bold\">0</span>. <span style=\"color: #008080; text-decoration-color: #008080; font-weight: bold\">1</span>. <span style=\"color: #008080; text-decoration-color: #008080; font-weight: bold\">0</span>. <span style=\"color: #008080; text-decoration-color: #008080; font-weight: bold\">0</span>. <span style=\"color: #008080; text-decoration-color: #008080; font-weight: bold\">1</span>. <span style=\"color: #008080; text-decoration-color: #008080; font-weight: bold\">1</span>. <span style=\"color: #008080; text-decoration-color: #008080; font-weight: bold\">1</span>. <span style=\"color: #008080; text-decoration-color: #008080; font-weight: bold\">0</span>.<span style=\"font-weight: bold\">]</span>\n",
       " <span style=\"font-weight: bold\">[</span><span style=\"color: #008080; text-decoration-color: #008080; font-weight: bold\">1</span>. <span style=\"color: #008080; text-decoration-color: #008080; font-weight: bold\">0</span>. <span style=\"color: #008080; text-decoration-color: #008080; font-weight: bold\">1</span>. <span style=\"color: #008080; text-decoration-color: #008080; font-weight: bold\">1</span>. <span style=\"color: #008080; text-decoration-color: #008080; font-weight: bold\">0</span>. <span style=\"color: #008080; text-decoration-color: #008080; font-weight: bold\">0</span>. <span style=\"color: #008080; text-decoration-color: #008080; font-weight: bold\">1</span>. <span style=\"color: #008080; text-decoration-color: #008080; font-weight: bold\">1</span>. <span style=\"color: #008080; text-decoration-color: #008080; font-weight: bold\">1</span>. <span style=\"color: #008080; text-decoration-color: #008080; font-weight: bold\">0</span>.<span style=\"font-weight: bold\">]]</span>\n",
       "</pre>\n"
      ],
      "text/plain": [
       "\u001b[1m[\u001b[0m\u001b[1m[\u001b[0m\u001b[1;36m1\u001b[0m. \u001b[1;36m0\u001b[0m. \u001b[1;36m1\u001b[0m. \u001b[1;36m0\u001b[0m. \u001b[1;36m0\u001b[0m. \u001b[1;36m1\u001b[0m. \u001b[1;36m1\u001b[0m. \u001b[1;36m1\u001b[0m. \u001b[1;36m1\u001b[0m. \u001b[1;36m0\u001b[0m.\u001b[1m]\u001b[0m\n",
       " \u001b[1m[\u001b[0m\u001b[1;36m1\u001b[0m. \u001b[1;36m0\u001b[0m. \u001b[1;36m0\u001b[0m. \u001b[1;36m1\u001b[0m. \u001b[1;36m0\u001b[0m. \u001b[1;36m1\u001b[0m. \u001b[1;36m1\u001b[0m. \u001b[1;36m1\u001b[0m. \u001b[1;36m1\u001b[0m. \u001b[1;36m0\u001b[0m.\u001b[1m]\u001b[0m\n",
       " \u001b[1m[\u001b[0m\u001b[1;36m1\u001b[0m. \u001b[1;36m1\u001b[0m. \u001b[1;36m0\u001b[0m. \u001b[1;36m1\u001b[0m. \u001b[1;36m0\u001b[0m. \u001b[1;36m0\u001b[0m. \u001b[1;36m1\u001b[0m. \u001b[1;36m1\u001b[0m. \u001b[1;36m1\u001b[0m. \u001b[1;36m0\u001b[0m.\u001b[1m]\u001b[0m\n",
       " \u001b[1m[\u001b[0m\u001b[1;36m1\u001b[0m. \u001b[1;36m0\u001b[0m. \u001b[1;36m1\u001b[0m. \u001b[1;36m1\u001b[0m. \u001b[1;36m0\u001b[0m. \u001b[1;36m0\u001b[0m. \u001b[1;36m1\u001b[0m. \u001b[1;36m1\u001b[0m. \u001b[1;36m1\u001b[0m. \u001b[1;36m0\u001b[0m.\u001b[1m]\u001b[0m\u001b[1m]\u001b[0m\n"
      ]
     },
     "metadata": {},
     "output_type": "display_data"
    }
   ],
   "source": [
    "import cvxpy as cp\n",
    "\n",
    "flag = 1\n",
    "c = np.vectorize(lambda pmf: min(pmf.distribution()))(pmfs  # 第一小题\n",
    "        ) if flag == 1 else np.vectorize(lambda pmf: pmf.expectation())(pmfs)  # 第二小题\n",
    "c_max = np.vectorize(lambda pmf: max(pmf.distribution()))(pmfs)\n",
    "print(np.vectorize(lambda pmf: max(pmf.distribution()))(pmfs))\n",
    "\n",
    "x = cp.Variable((4, 10), integer=True)  # 整数规划\n",
    "s = cp.Variable(10, integer=True)\n",
    "pro = cp.Minimize(- cp.sum(cp.multiply(c_max, x)))  # 按位相乘\n",
    "cons = [x >= 0,\n",
    "        x <= 1,\n",
    "        s >= 0,\n",
    "        s <= 1,\n",
    "        cp.sum(s) == 4,\n",
    "        cp.sum(x) == 24,\n",
    "        cp.sum(x, axis=1) == 6,\n",
    "        # cp.sum(cp.multiply(c_max, x)) >= 236.2,\n",
    "        cp.sum(x, axis=0) >= 4 * s]\n",
    "prob = cp.Problem(pro, cons)\n",
    "prob.solve(solver='GLPK_MI')  # 如果运行不了执行: pip install mkl\n",
    "print(- prob.value)\n",
    "print(x.value)\n",
    "# print(np.sum(x.value * c_max))\n",
    "# test = np.array([[1, 0, 1, 1, 0, 1, 1, 1, 0, 0],\n",
    "#                  [1, 0, 0, 1, 0, 1, 1, 1, 1, 0],\n",
    "#                  [1, 1, 0, 1, 0, 0, 1, 1, 1, 0],\n",
    "#                  [1, 0, 1, 1, 1, 0, 1, 1, 0, 0]])\n",
    "# print(np.sum(test * c_max))\n",
    "\n",
    "if flag == 2:\n",
    "    print('第二小题--------------------')\n",
    "    pmf_tree = pmfs[np.vectorize(bool)(x.value)]  # bool 索引\n",
    "    p_tree = create_pmftree(list(pmf_tree))\n",
    "    # graph_pmftree(p_tree)\n",
    "    plot_pmf(p_tree.data)  # 概率质量函数(分布律)\n",
    "    distr, y = plot_cdf(p_tree.data)  # 分布函数\n",
    "    print(distr[distr >= 236.2], y[distr >= 236.2], sep='\\n')\n",
    "    print(distr[abs(y - 0.1) <= 0.01])  # 9~11% 概率处\n"
   ]
  },
  {
   "cell_type": "markdown",
   "metadata": {},
   "source": [
    "将上面的flag改为1, 第一小题的 `cp.Minimize(- cp.sum(cp.multiply(c, x)))` 改成 `cp.Minimize(- cp.sum(cp.multiply(c_max, x)))` 可以发现最大可能得分只有236.6, 这就表明穷举可能大于等于236.2方案是可行的, 计算每一个可行方案的大于等于236.2的概率就能得出令人满意的答案."
   ]
  },
  {
   "cell_type": "code",
   "execution_count": 4,
   "metadata": {},
   "outputs": [
    {
     "name": "stdout",
     "output_type": "stream",
     "text": [
      "Restricted license - for non-production use only - expires 2024-10-28\n",
      "Set parameter PoolSolutions to value 1024\n",
      "Set parameter PoolSearchMode to value 2\n",
      "Gurobi Optimizer version 10.0.2 build v10.0.2rc0 (win64)\n",
      "\n",
      "CPU model: 12th Gen Intel(R) Core(TM) i5-12500H, instruction set [SSE2|AVX|AVX2]\n",
      "Thread count: 12 physical cores, 16 logical processors, using up to 16 threads\n",
      "\n",
      "Optimize a model with 17 rows, 50 columns and 180 nonzeros\n",
      "Model fingerprint: 0x715ece3c\n",
      "Variable types: 0 continuous, 50 integer (50 binary)\n",
      "Coefficient statistics:\n",
      "  Matrix range     [1e+00, 1e+01]\n",
      "  Objective range  [9e+00, 1e+01]\n",
      "  Bounds range     [1e+00, 1e+00]\n",
      "  RHS range        [4e+00, 2e+02]\n",
      "Presolve removed 1 rows and 0 columns\n",
      "Presolve time: 0.00s\n",
      "Presolved: 16 rows, 50 columns, 133 nonzeros\n",
      "Variable types: 0 continuous, 50 integer (50 binary)\n",
      "Found heuristic solution: objective 236.6000000\n",
      "\n",
      "Root relaxation: objective 2.375000e+02, 13 iterations, 0.00 seconds (0.00 work units)\n",
      "\n",
      "    Nodes    |    Current Node    |     Objective Bounds      |     Work\n",
      " Expl Unexpl |  Obj  Depth IntInf | Incumbent    BestBd   Gap | It/Node Time\n",
      "\n",
      "     0     0  237.50000    0    6  236.60000  237.50000  0.38%     -    0s\n",
      "     0     0  237.12500    0    8  236.60000  237.12500  0.22%     -    0s\n",
      "     0     0  237.07500    0    7  236.60000  237.07500  0.20%     -    0s\n",
      "     0     0  236.66667    0   11  236.60000  236.66667  0.03%     -    0s\n",
      "\n",
      "Optimal solution found at node 0 - now completing solution pool...\n",
      "\n",
      "    Nodes    |    Current Node    |      Pool Obj. Bounds     |     Work\n",
      "             |                    |   Worst                   |\n",
      " Expl Unexpl |  Obj  Depth IntInf | Incumbent    BestBd   Gap | It/Node Time\n",
      "\n",
      "     0     0          -    0               -  236.60000      -     -    0s\n",
      "     0     0          -    0               -  236.60000      -     -    0s\n",
      "     0     0          -    0               -  236.60000      -     -    0s\n",
      "     0     2          -    0               -  236.60000      -     -    0s\n",
      "\n",
      "Cutting planes:\n",
      "  Cover: 11\n",
      "  Clique: 2\n",
      "  MIR: 5\n",
      "\n",
      "Explored 2495 nodes (899 simplex iterations) in 0.06 seconds (0.00 work units)\n",
      "Thread count was 16 (of 16 available processors)\n",
      "\n",
      "Solution count 765: 236.6 236.6 236.6 ... 236.2\n",
      "No other solutions better than -1e+100\n",
      "\n",
      "Optimal solution found (tolerance 1.00e-04)\n",
      "Best objective 2.366000000000e+02, best bound 2.366000000000e+02, gap 0.0000%\n"
     ]
    },
    {
     "data": {
      "text/html": [
       "<pre style=\"white-space:pre;overflow-x:auto;line-height:normal;font-family:Menlo,'DejaVu Sans Mono',consolas,'Courier New',monospace\"><span style=\"color: #008080; text-decoration-color: #008080; font-weight: bold\">765</span> <span style=\"color: #008080; text-decoration-color: #008080; font-weight: bold\">761</span>\n",
       "</pre>\n"
      ],
      "text/plain": [
       "\u001b[1;36m765\u001b[0m \u001b[1;36m761\u001b[0m\n"
      ]
     },
     "metadata": {},
     "output_type": "display_data"
    }
   ],
   "source": [
    "import gurobipy as gp\n",
    "from gurobipy import GRB\n",
    "\n",
    "m = gp.Model()\n",
    "x_ = m.addVars(4, 10, vtype=GRB.BINARY, name='x')\n",
    "s_ = m.addVars(10, vtype=GRB.BINARY, name='s')\n",
    "\n",
    "def multi(co, vars, shape: tuple[int, int]):\n",
    "    a = 0\n",
    "    for i in range(shape[0]):\n",
    "        for j in range(shape[1]):\n",
    "            a += co[i, j] * vars[i, j]\n",
    "    return a\n",
    "\n",
    "m.setObjective(multi(c_max, x_, (4, 10)), GRB.MAXIMIZE)\n",
    "m.addConstr(x_.sum() == 24)\n",
    "m.addConstr(s_.sum() == 4)\n",
    "m.addConstr(multi(c_max, x_, (4, 10)) >= 236.2)\n",
    "m.addConstrs(x_.sum(i, '*') == 6 for i in range(4))\n",
    "m.addConstrs(x_.sum('*', j) >= 4 * s_[j] for j in range(10))\n",
    "m.update()\n",
    "\n",
    "m.setParam(GRB.Param.PoolSolutions, 1024)\n",
    "m.setParam(GRB.Param.PoolSearchMode, 2)\n",
    "m.optimize()\n",
    "\n",
    "obj_val_l, X_l, res_set = [], [], set()\n",
    "for e in range (m.SolCount):\n",
    "    l = []\n",
    "    m.setParam(GRB.Param.SolutionNumber, e)\n",
    "    obj_val_l.append(round(m.PoolObjVal,3))\n",
    "    for i in range(4):\n",
    "        for j in range(10):\n",
    "            l.append(bool(round(x_[i, j].Xn, 2)))\n",
    "    res_set.add(tuple(l))\n",
    "    X_l.append(np.array(l).reshape(4, 10))\n",
    "\n",
    "print(len(obj_val_l), len(res_set))"
   ]
  },
  {
   "cell_type": "markdown",
   "metadata": {},
   "source": [
    "可以看到，在235.6和235.2之间居然有761种组合，接下来一一求解概率"
   ]
  },
  {
   "cell_type": "code",
   "execution_count": 7,
   "metadata": {},
   "outputs": [
    {
     "data": {
      "text/html": [
       "<pre style=\"white-space:pre;overflow-x:auto;line-height:normal;font-family:Menlo,'DejaVu Sans Mono',consolas,'Courier New',monospace\"><span style=\"color: #008080; text-decoration-color: #008080; font-weight: bold\">499213</span>/<span style=\"color: #008080; text-decoration-color: #008080; font-weight: bold\">7812500000000000000000</span>\n",
       "<span style=\"font-weight: bold\">[[</span> <span style=\"color: #00ff00; text-decoration-color: #00ff00; font-style: italic\">True</span> <span style=\"color: #ff0000; text-decoration-color: #ff0000; font-style: italic\">False</span>  <span style=\"color: #00ff00; text-decoration-color: #00ff00; font-style: italic\">True</span> <span style=\"color: #ff0000; text-decoration-color: #ff0000; font-style: italic\">False</span> <span style=\"color: #ff0000; text-decoration-color: #ff0000; font-style: italic\">False</span>  <span style=\"color: #00ff00; text-decoration-color: #00ff00; font-style: italic\">True</span>  <span style=\"color: #00ff00; text-decoration-color: #00ff00; font-style: italic\">True</span>  <span style=\"color: #00ff00; text-decoration-color: #00ff00; font-style: italic\">True</span>  <span style=\"color: #00ff00; text-decoration-color: #00ff00; font-style: italic\">True</span> <span style=\"color: #ff0000; text-decoration-color: #ff0000; font-style: italic\">False</span><span style=\"font-weight: bold\">]</span>\n",
       " <span style=\"font-weight: bold\">[</span> <span style=\"color: #00ff00; text-decoration-color: #00ff00; font-style: italic\">True</span> <span style=\"color: #ff0000; text-decoration-color: #ff0000; font-style: italic\">False</span>  <span style=\"color: #00ff00; text-decoration-color: #00ff00; font-style: italic\">True</span>  <span style=\"color: #00ff00; text-decoration-color: #00ff00; font-style: italic\">True</span> <span style=\"color: #ff0000; text-decoration-color: #ff0000; font-style: italic\">False</span> <span style=\"color: #ff0000; text-decoration-color: #ff0000; font-style: italic\">False</span>  <span style=\"color: #00ff00; text-decoration-color: #00ff00; font-style: italic\">True</span>  <span style=\"color: #00ff00; text-decoration-color: #00ff00; font-style: italic\">True</span>  <span style=\"color: #00ff00; text-decoration-color: #00ff00; font-style: italic\">True</span> <span style=\"color: #ff0000; text-decoration-color: #ff0000; font-style: italic\">False</span><span style=\"font-weight: bold\">]</span>\n",
       " <span style=\"font-weight: bold\">[</span> <span style=\"color: #00ff00; text-decoration-color: #00ff00; font-style: italic\">True</span>  <span style=\"color: #00ff00; text-decoration-color: #00ff00; font-style: italic\">True</span>  <span style=\"color: #00ff00; text-decoration-color: #00ff00; font-style: italic\">True</span>  <span style=\"color: #00ff00; text-decoration-color: #00ff00; font-style: italic\">True</span> <span style=\"color: #ff0000; text-decoration-color: #ff0000; font-style: italic\">False</span> <span style=\"color: #ff0000; text-decoration-color: #ff0000; font-style: italic\">False</span> <span style=\"color: #ff0000; text-decoration-color: #ff0000; font-style: italic\">False</span>  <span style=\"color: #00ff00; text-decoration-color: #00ff00; font-style: italic\">True</span>  <span style=\"color: #00ff00; text-decoration-color: #00ff00; font-style: italic\">True</span> <span style=\"color: #ff0000; text-decoration-color: #ff0000; font-style: italic\">False</span><span style=\"font-weight: bold\">]</span>\n",
       " <span style=\"font-weight: bold\">[</span> <span style=\"color: #00ff00; text-decoration-color: #00ff00; font-style: italic\">True</span> <span style=\"color: #ff0000; text-decoration-color: #ff0000; font-style: italic\">False</span>  <span style=\"color: #00ff00; text-decoration-color: #00ff00; font-style: italic\">True</span>  <span style=\"color: #00ff00; text-decoration-color: #00ff00; font-style: italic\">True</span>  <span style=\"color: #00ff00; text-decoration-color: #00ff00; font-style: italic\">True</span> <span style=\"color: #ff0000; text-decoration-color: #ff0000; font-style: italic\">False</span> <span style=\"color: #ff0000; text-decoration-color: #ff0000; font-style: italic\">False</span>  <span style=\"color: #00ff00; text-decoration-color: #00ff00; font-style: italic\">True</span>  <span style=\"color: #00ff00; text-decoration-color: #00ff00; font-style: italic\">True</span> <span style=\"color: #ff0000; text-decoration-color: #ff0000; font-style: italic\">False</span><span style=\"font-weight: bold\">]]</span>\n",
       "</pre>\n"
      ],
      "text/plain": [
       "\u001b[1;36m499213\u001b[0m/\u001b[1;36m7812500000000000000000\u001b[0m\n",
       "\u001b[1m[\u001b[0m\u001b[1m[\u001b[0m \u001b[3;92mTrue\u001b[0m \u001b[3;91mFalse\u001b[0m  \u001b[3;92mTrue\u001b[0m \u001b[3;91mFalse\u001b[0m \u001b[3;91mFalse\u001b[0m  \u001b[3;92mTrue\u001b[0m  \u001b[3;92mTrue\u001b[0m  \u001b[3;92mTrue\u001b[0m  \u001b[3;92mTrue\u001b[0m \u001b[3;91mFalse\u001b[0m\u001b[1m]\u001b[0m\n",
       " \u001b[1m[\u001b[0m \u001b[3;92mTrue\u001b[0m \u001b[3;91mFalse\u001b[0m  \u001b[3;92mTrue\u001b[0m  \u001b[3;92mTrue\u001b[0m \u001b[3;91mFalse\u001b[0m \u001b[3;91mFalse\u001b[0m  \u001b[3;92mTrue\u001b[0m  \u001b[3;92mTrue\u001b[0m  \u001b[3;92mTrue\u001b[0m \u001b[3;91mFalse\u001b[0m\u001b[1m]\u001b[0m\n",
       " \u001b[1m[\u001b[0m \u001b[3;92mTrue\u001b[0m  \u001b[3;92mTrue\u001b[0m  \u001b[3;92mTrue\u001b[0m  \u001b[3;92mTrue\u001b[0m \u001b[3;91mFalse\u001b[0m \u001b[3;91mFalse\u001b[0m \u001b[3;91mFalse\u001b[0m  \u001b[3;92mTrue\u001b[0m  \u001b[3;92mTrue\u001b[0m \u001b[3;91mFalse\u001b[0m\u001b[1m]\u001b[0m\n",
       " \u001b[1m[\u001b[0m \u001b[3;92mTrue\u001b[0m \u001b[3;91mFalse\u001b[0m  \u001b[3;92mTrue\u001b[0m  \u001b[3;92mTrue\u001b[0m  \u001b[3;92mTrue\u001b[0m \u001b[3;91mFalse\u001b[0m \u001b[3;91mFalse\u001b[0m  \u001b[3;92mTrue\u001b[0m  \u001b[3;92mTrue\u001b[0m \u001b[3;91mFalse\u001b[0m\u001b[1m]\u001b[0m\u001b[1m]\u001b[0m\n"
      ]
     },
     "metadata": {},
     "output_type": "display_data"
    },
    {
     "data": {
      "text/html": [
       "<pre style=\"white-space:pre;overflow-x:auto;line-height:normal;font-family:Menlo,'DejaVu Sans Mono',consolas,'Courier New',monospace\"><span style=\"color: #008080; text-decoration-color: #008080; font-weight: bold\">198.7666339999996</span>\n",
       "</pre>\n"
      ],
      "text/plain": [
       "\u001b[1;36m198.7666339999996\u001b[0m\n"
      ]
     },
     "metadata": {},
     "output_type": "display_data"
    }
   ],
   "source": [
    "from datastructure.probability.cdf import create_cdf\n",
    "import time\n",
    "start = time.perf_counter()  # 看看花多久\n",
    "\n",
    "max_item = [-1, None, None]\n",
    "for combination in res_set:\n",
    "    combination = np.array(list(combination)).reshape(4, 10)\n",
    "    pmf_l = pmfs[combination]  # bool 索引\n",
    "    ptree = create_pmftree(list(pmf_l))\n",
    "    cdf = create_cdf(ptree.data)\n",
    "    if (m := (1 - cdf((236.1, 236.0, 235.9)))) > max_item[0]:  #:=记得打括号\n",
    "        max_item = [m, combination, cdf]\n",
    "\n",
    "print(max_item[0], max_item[1], sep='\\n')\n",
    "print(time.perf_counter() - start)  # 198.7s"
   ]
  },
  {
   "cell_type": "code",
   "execution_count": 14,
   "metadata": {},
   "outputs": [
    {
     "data": {
      "text/html": [
       "<pre style=\"white-space:pre;overflow-x:auto;line-height:normal;font-family:Menlo,'DejaVu Sans Mono',consolas,'Courier New',monospace\"><span style=\"color: #008080; text-decoration-color: #008080; font-weight: bold\">6.3899264e-17</span>\n",
       "</pre>\n"
      ],
      "text/plain": [
       "\u001b[1;36m6.3899264e-17\u001b[0m\n"
      ]
     },
     "metadata": {},
     "output_type": "display_data"
    },
    {
     "data": {
      "text/html": [
       "<pre style=\"white-space:pre;overflow-x:auto;line-height:normal;font-family:Menlo,'DejaVu Sans Mono',consolas,'Courier New',monospace\"><span style=\"font-weight: bold\">[(</span><span style=\"color: #008080; text-decoration-color: #008080; font-weight: bold\">221.1</span>, <span style=\"color: #008080; text-decoration-color: #008080; font-weight: bold\">0.09644566621797428</span><span style=\"font-weight: bold\">)</span>, <span style=\"font-weight: bold\">(</span><span style=\"color: #008080; text-decoration-color: #008080; font-weight: bold\">221.2</span>, <span style=\"color: #008080; text-decoration-color: #008080; font-weight: bold\">0.10792445731588116</span><span style=\"font-weight: bold\">)]</span>\n",
       "</pre>\n"
      ],
      "text/plain": [
       "\u001b[1m[\u001b[0m\u001b[1m(\u001b[0m\u001b[1;36m221.1\u001b[0m, \u001b[1;36m0.09644566621797428\u001b[0m\u001b[1m)\u001b[0m, \u001b[1m(\u001b[0m\u001b[1;36m221.2\u001b[0m, \u001b[1;36m0.10792445731588116\u001b[0m\u001b[1m)\u001b[0m\u001b[1m]\u001b[0m\n"
      ]
     },
     "metadata": {},
     "output_type": "display_data"
    }
   ],
   "source": [
    "print(float(max_item[0]))\n",
    "print([tuple(map(float, item))for item in max_item[2].cdf_data.items() if abs(item[1] - 0.1) <= 0.01])"
   ]
  },
  {
   "cell_type": "markdown",
   "metadata": {},
   "source": [
    "答：夺冠最大概率为 6.3899264e-17，机会渺茫，有90%的把握战胜221.1分的对手"
   ]
  },
  {
   "cell_type": "code",
   "execution_count": 16,
   "metadata": {},
   "outputs": [
    {
     "data": {
      "image/png": "[encoded data removed]",
      "text/plain": [
       "<Figure size 640x480 with 1 Axes>"
      ]
     },
     "metadata": {},
     "output_type": "display_data"
    }
   ],
   "source": [
    "import matplotlib.pyplot as plt\n",
    "\n",
    "fig, ax = plt.subplots()\n",
    "ax.plot(max_item[2].cdf_data.keys(), max_item[2].cdf_data.values())\n",
    "plt.show()"
   ]
  }
 ],
 "metadata": {
  "kernelspec": {
   "display_name": "Python 3",
   "language": "python",
   "name": "python3"
  },
  "language_info": {
   "codemirror_mode": {
    "name": "ipython",
    "version": 3
   },
   "file_extension": ".py",
   "mimetype": "text/x-python",
   "name": "python",
   "nbconvert_exporter": "python",
   "pygments_lexer": "ipython3",
   "version": "3.11.2"
  },
  "orig_nbformat": 4
 },
 "nbformat": 4,
 "nbformat_minor": 2
}
