{
 "cells": [
  {
   "cell_type": "markdown",
   "metadata": {},
   "source": [
    "# 差分方程 Difference Equation\n",
    "《Python数学建模算法与应用》中介绍了差分方程的稳定性，线性差分方程的解法，有兴趣可以去看看，这里仅介绍一些有趣的例子"
   ]
  },
  {
   "cell_type": "markdown",
   "metadata": {},
   "source": [
    "## 线性差分方程"
   ]
  },
  {
   "cell_type": "markdown",
   "metadata": {},
   "source": [
    "### Logistic人口模型的差分实现\n",
    "$$\n",
    "\\begin{cases} \\dot{x} = r (1 - {x \\over x_m}) x \\\\\n",
    "              x(t_0) = x_0 \\end{cases}\n",
    "$$\n",
    "不管这个方程组是如写出的，这可以按微分方程的方法去解，但如果以月/年为单位将时间离散，则可写出离散形式的方程。\n",
    "$$\n",
    "\\begin{cases} a_{k+1} = (\\Delta t \\space r + 1) a_k - { r \\over x_m} a_k^2 \\\\\n",
    "              a_0 = x_0 \\end{cases} \\tag{1}\n",
    "$$\n",
    "这是向前差分，当然还有向后差分，这里不写。将$(1)$式写得更紧凑些，并给出数学问题：\n",
    "$$\n",
    "\\begin{cases} a_{k+1} = \\alpha a_k + \\beta a_k^2 \\\\\n",
    "              a_0 = x_0 \\end{cases} \\tag{2}\n",
    "$$\n",
    "已知 $ a_k, k = 0, 1, ...,5$。预测之后的 $ a_k $\n",
    "其实就是找到 $ \\alpha, \\beta $ 使其更贴合给定数据，观察到未知量之间的线性关系，可用最小二乘法，这里为了更清楚地说明，特意写出矩阵形式：\n",
    "$$\n",
    "\\begin{bmatrix}\n",
    "    {a_0}&{a_0^2}\\\\\n",
    "    {a_1}&{a_1^2}\\\\\n",
    "    {\\vdots}&{\\vdots}\\\\\n",
    "    {a_{5}}&{a_{5}^2}\\\\\n",
    "\\end{bmatrix}\n",
    "\\begin{bmatrix}\n",
    "    {\\alpha}\\\\\n",
    "    {\\beta}\n",
    "\\end{bmatrix} = \n",
    "\\begin{bmatrix}\n",
    "    {a_1}\\\\\n",
    "    {a_2}\\\\\n",
    "    {\\vdots}\\\\\n",
    "    {a_{6}}\n",
    "\\end{bmatrix} \\tag{3}\n",
    "$$\n",
    "$(3)$ 式为超定线性方程组，接下来写程序"
   ]
  },
  {
   "cell_type": "code",
   "execution_count": 2,
   "metadata": {},
   "outputs": [
    {
     "data": {
      "text/html": [
       "<pre style=\"white-space:pre;overflow-x:auto;line-height:normal;font-family:Menlo,'DejaVu Sans Mono',consolas,'Courier New',monospace\"><span style=\"font-weight: bold\">[[</span>  <span style=\"color: #008080; text-decoration-color: #008080; font-weight: bold\">3.9</span>    <span style=\"color: #008080; text-decoration-color: #008080; font-weight: bold\">5.3</span>    <span style=\"color: #008080; text-decoration-color: #008080; font-weight: bold\">7.2</span>    <span style=\"color: #008080; text-decoration-color: #008080; font-weight: bold\">9.6</span>   <span style=\"color: #008080; text-decoration-color: #008080; font-weight: bold\">12.9</span> <span style=\"font-weight: bold\">]</span>\n",
       " <span style=\"font-weight: bold\">[</span> <span style=\"color: #008080; text-decoration-color: #008080; font-weight: bold\">15.21</span>  <span style=\"color: #008080; text-decoration-color: #008080; font-weight: bold\">28.09</span>  <span style=\"color: #008080; text-decoration-color: #008080; font-weight: bold\">51.84</span>  <span style=\"color: #008080; text-decoration-color: #008080; font-weight: bold\">92.16</span> <span style=\"color: #008080; text-decoration-color: #008080; font-weight: bold\">166.41</span><span style=\"font-weight: bold\">]]</span>\n",
       "</pre>\n"
      ],
      "text/plain": [
       "\u001b[1m[\u001b[0m\u001b[1m[\u001b[0m  \u001b[1;36m3.9\u001b[0m    \u001b[1;36m5.3\u001b[0m    \u001b[1;36m7.2\u001b[0m    \u001b[1;36m9.6\u001b[0m   \u001b[1;36m12.9\u001b[0m \u001b[1m]\u001b[0m\n",
       " \u001b[1m[\u001b[0m \u001b[1;36m15.21\u001b[0m  \u001b[1;36m28.09\u001b[0m  \u001b[1;36m51.84\u001b[0m  \u001b[1;36m92.16\u001b[0m \u001b[1;36m166.41\u001b[0m\u001b[1m]\u001b[0m\u001b[1m]\u001b[0m\n"
      ]
     },
     "metadata": {},
     "output_type": "display_data"
    }
   ],
   "source": [
    "import numpy as np\n",
    "from rich import print\n",
    "\n",
    "a: list = [3.9, 5.3, 7.2, 9.6, 12.9, 17.1]\n",
    "a: np.ndarray = np.array(a)\n",
    "A = np.vstack([a[:-1], a[:-1] ** 2])  # 理解就行\n",
    "print(A)"
   ]
  },
  {
   "cell_type": "code",
   "execution_count": 3,
   "metadata": {},
   "outputs": [
    {
     "data": {
      "text/html": [
       "<pre style=\"white-space:pre;overflow-x:auto;line-height:normal;font-family:Menlo,'DejaVu Sans Mono',consolas,'Courier New',monospace\"><span style=\"font-weight: bold\">[[</span>  <span style=\"color: #008080; text-decoration-color: #008080; font-weight: bold\">3.9</span>   <span style=\"color: #008080; text-decoration-color: #008080; font-weight: bold\">15.21</span><span style=\"font-weight: bold\">]</span>\n",
       " <span style=\"font-weight: bold\">[</span>  <span style=\"color: #008080; text-decoration-color: #008080; font-weight: bold\">5.3</span>   <span style=\"color: #008080; text-decoration-color: #008080; font-weight: bold\">28.09</span><span style=\"font-weight: bold\">]</span>\n",
       " <span style=\"font-weight: bold\">[</span>  <span style=\"color: #008080; text-decoration-color: #008080; font-weight: bold\">7.2</span>   <span style=\"color: #008080; text-decoration-color: #008080; font-weight: bold\">51.84</span><span style=\"font-weight: bold\">]</span>\n",
       " <span style=\"font-weight: bold\">[</span>  <span style=\"color: #008080; text-decoration-color: #008080; font-weight: bold\">9.6</span>   <span style=\"color: #008080; text-decoration-color: #008080; font-weight: bold\">92.16</span><span style=\"font-weight: bold\">]</span>\n",
       " <span style=\"font-weight: bold\">[</span> <span style=\"color: #008080; text-decoration-color: #008080; font-weight: bold\">12.9</span>  <span style=\"color: #008080; text-decoration-color: #008080; font-weight: bold\">166.41</span><span style=\"font-weight: bold\">]]</span>\n",
       "</pre>\n"
      ],
      "text/plain": [
       "\u001b[1m[\u001b[0m\u001b[1m[\u001b[0m  \u001b[1;36m3.9\u001b[0m   \u001b[1;36m15.21\u001b[0m\u001b[1m]\u001b[0m\n",
       " \u001b[1m[\u001b[0m  \u001b[1;36m5.3\u001b[0m   \u001b[1;36m28.09\u001b[0m\u001b[1m]\u001b[0m\n",
       " \u001b[1m[\u001b[0m  \u001b[1;36m7.2\u001b[0m   \u001b[1;36m51.84\u001b[0m\u001b[1m]\u001b[0m\n",
       " \u001b[1m[\u001b[0m  \u001b[1;36m9.6\u001b[0m   \u001b[1;36m92.16\u001b[0m\u001b[1m]\u001b[0m\n",
       " \u001b[1m[\u001b[0m \u001b[1;36m12.9\u001b[0m  \u001b[1;36m166.41\u001b[0m\u001b[1m]\u001b[0m\u001b[1m]\u001b[0m\n"
      ]
     },
     "metadata": {},
     "output_type": "display_data"
    }
   ],
   "source": [
    "print(A := A.T)  # 转置"
   ]
  },
  {
   "cell_type": "code",
   "execution_count": 8,
   "metadata": {},
   "outputs": [
    {
     "data": {
      "text/html": [
       "<pre style=\"white-space:pre;overflow-x:auto;line-height:normal;font-family:Menlo,'DejaVu Sans Mono',consolas,'Courier New',monospace\"><span style=\"font-weight: bold\">[[</span> <span style=\"color: #008080; text-decoration-color: #008080; font-weight: bold\">3.9</span><span style=\"font-weight: bold\">]</span>\n",
       " <span style=\"font-weight: bold\">[</span> <span style=\"color: #008080; text-decoration-color: #008080; font-weight: bold\">5.3</span><span style=\"font-weight: bold\">]</span>\n",
       " <span style=\"font-weight: bold\">[</span> <span style=\"color: #008080; text-decoration-color: #008080; font-weight: bold\">7.2</span><span style=\"font-weight: bold\">]</span>\n",
       " <span style=\"font-weight: bold\">[</span> <span style=\"color: #008080; text-decoration-color: #008080; font-weight: bold\">9.6</span><span style=\"font-weight: bold\">]</span>\n",
       " <span style=\"font-weight: bold\">[</span><span style=\"color: #008080; text-decoration-color: #008080; font-weight: bold\">12.9</span><span style=\"font-weight: bold\">]]</span>\n",
       "</pre>\n"
      ],
      "text/plain": [
       "\u001b[1m[\u001b[0m\u001b[1m[\u001b[0m \u001b[1;36m3.9\u001b[0m\u001b[1m]\u001b[0m\n",
       " \u001b[1m[\u001b[0m \u001b[1;36m5.3\u001b[0m\u001b[1m]\u001b[0m\n",
       " \u001b[1m[\u001b[0m \u001b[1;36m7.2\u001b[0m\u001b[1m]\u001b[0m\n",
       " \u001b[1m[\u001b[0m \u001b[1;36m9.6\u001b[0m\u001b[1m]\u001b[0m\n",
       " \u001b[1m[\u001b[0m\u001b[1;36m12.9\u001b[0m\u001b[1m]\u001b[0m\u001b[1m]\u001b[0m\n"
      ]
     },
     "metadata": {},
     "output_type": "display_data"
    }
   ],
   "source": [
    "B = a.reshape(a.shape[0], 1)[:-1]  # 转置加切\n",
    "print(B)"
   ]
  },
  {
   "cell_type": "code",
   "execution_count": 12,
   "metadata": {},
   "outputs": [
    {
     "data": {
      "text/html": [
       "<pre style=\"white-space:pre;overflow-x:auto;line-height:normal;font-family:Menlo,'DejaVu Sans Mono',consolas,'Courier New',monospace\"><span style=\"font-weight: bold\">[[</span><span style=\"color: #008080; text-decoration-color: #008080; font-weight: bold\">1.00000000e+00</span><span style=\"font-weight: bold\">]</span>\n",
       " <span style=\"font-weight: bold\">[</span><span style=\"color: #008080; text-decoration-color: #008080; font-weight: bold\">6.89100153e-18</span><span style=\"font-weight: bold\">]]</span>\n",
       "</pre>\n"
      ],
      "text/plain": [
       "\u001b[1m[\u001b[0m\u001b[1m[\u001b[0m\u001b[1;36m1.00000000e+00\u001b[0m\u001b[1m]\u001b[0m\n",
       " \u001b[1m[\u001b[0m\u001b[1;36m6.89100153e-18\u001b[0m\u001b[1m]\u001b[0m\u001b[1m]\u001b[0m\n"
      ]
     },
     "metadata": {},
     "output_type": "display_data"
    }
   ],
   "source": [
    "X = np.linalg.pinv(A) @ B\n",
    "print(X)"
   ]
  },
  {
   "cell_type": "markdown",
   "metadata": {},
   "source": [
    "求出来了，不过未了加深对最小二乘拟合的印象，这里再“手算”一下\n",
    "$$\n",
    "A \\cdot X = B\n",
    "$$\n",
    "\n",
    "A 列满秩，方程组超定\n",
    "$$\n",
    "X = (A^T A)^{-1} A^T B\n",
    "$$"
   ]
  },
  {
   "cell_type": "code",
   "execution_count": 26,
   "metadata": {},
   "outputs": [
    {
     "data": {
      "text/html": [
       "<pre style=\"white-space:pre;overflow-x:auto;line-height:normal;font-family:Menlo,'DejaVu Sans Mono',consolas,'Courier New',monospace\"><span style=\"font-weight: bold\">[[</span> <span style=\"color: #008080; text-decoration-color: #008080; font-weight: bold\">1.00000000e+00</span><span style=\"font-weight: bold\">]</span>\n",
       " <span style=\"font-weight: bold\">[</span><span style=\"color: #008080; text-decoration-color: #008080; font-weight: bold\">-4.60180645e-17</span><span style=\"font-weight: bold\">]]</span>\n",
       "</pre>\n"
      ],
      "text/plain": [
       "\u001b[1m[\u001b[0m\u001b[1m[\u001b[0m \u001b[1;36m1.00000000e+00\u001b[0m\u001b[1m]\u001b[0m\n",
       " \u001b[1m[\u001b[0m\u001b[1;36m-4.60180645e-17\u001b[0m\u001b[1m]\u001b[0m\u001b[1m]\u001b[0m\n"
      ]
     },
     "metadata": {},
     "output_type": "display_data"
    }
   ],
   "source": [
    "X_2 = np.linalg.inv(A.T.dot(A)).dot(A.T).dot(B)\n",
    "print(X_2)"
   ]
  },
  {
   "cell_type": "code",
   "execution_count": 28,
   "metadata": {},
   "outputs": [
    {
     "data": {
      "text/html": [
       "<pre style=\"white-space:pre;overflow-x:auto;line-height:normal;font-family:Menlo,'DejaVu Sans Mono',consolas,'Courier New',monospace\"><span style=\"font-weight: bold\">[[</span><span style=\"color: #008080; text-decoration-color: #008080; font-weight: bold\">2</span>.        <span style=\"font-weight: bold\">]</span>\n",
       " <span style=\"font-weight: bold\">[</span><span style=\"color: #008080; text-decoration-color: #008080; font-weight: bold\">0.18846558</span><span style=\"font-weight: bold\">]]</span>\n",
       "</pre>\n"
      ],
      "text/plain": [
       "\u001b[1m[\u001b[0m\u001b[1m[\u001b[0m\u001b[1;36m2\u001b[0m.        \u001b[1m]\u001b[0m\n",
       " \u001b[1m[\u001b[0m\u001b[1;36m0.18846558\u001b[0m\u001b[1m]\u001b[0m\u001b[1m]\u001b[0m\n"
      ]
     },
     "metadata": {},
     "output_type": "display_data"
    }
   ],
   "source": [
    "X_3 = ((A.T @ A) ** -1) @ A.T @ B  # @ 为 点乘\n",
    "print(X_3)"
   ]
  },
  {
   "cell_type": "code",
   "execution_count": 27,
   "metadata": {},
   "outputs": [
    {
     "data": {
      "text/html": [
       "<pre style=\"white-space:pre;overflow-x:auto;line-height:normal;font-family:Menlo,'DejaVu Sans Mono',consolas,'Courier New',monospace\"><span style=\"font-weight: bold\">[[</span> <span style=\"color: #008080; text-decoration-color: #008080; font-weight: bold\">1.00000000e+00</span> <span style=\"color: #008080; text-decoration-color: #008080; font-weight: bold\">-2.28066797e-14</span><span style=\"font-weight: bold\">]</span>\n",
       " <span style=\"font-weight: bold\">[</span><span style=\"color: #008080; text-decoration-color: #008080; font-weight: bold\">-4.60180645e-17</span>  <span style=\"color: #008080; text-decoration-color: #008080; font-weight: bold\">1.00000000e+00</span><span style=\"font-weight: bold\">]]</span>\n",
       "</pre>\n"
      ],
      "text/plain": [
       "\u001b[1m[\u001b[0m\u001b[1m[\u001b[0m \u001b[1;36m1.00000000e+00\u001b[0m \u001b[1;36m-2.28066797e-14\u001b[0m\u001b[1m]\u001b[0m\n",
       " \u001b[1m[\u001b[0m\u001b[1;36m-4.60180645e-17\u001b[0m  \u001b[1;36m1.00000000e+00\u001b[0m\u001b[1m]\u001b[0m\u001b[1m]\u001b[0m\n"
      ]
     },
     "metadata": {},
     "output_type": "display_data"
    },
    {
     "data": {
      "text/html": [
       "<pre style=\"white-space:pre;overflow-x:auto;line-height:normal;font-family:Menlo,'DejaVu Sans Mono',consolas,'Courier New',monospace\"><span style=\"font-weight: bold\">[[</span> <span style=\"color: #008080; text-decoration-color: #008080; font-weight: bold\">2</span>.         <span style=\"color: #008080; text-decoration-color: #008080; font-weight: bold\">21.25627642</span><span style=\"font-weight: bold\">]</span>\n",
       " <span style=\"font-weight: bold\">[</span> <span style=\"color: #008080; text-decoration-color: #008080; font-weight: bold\">0.18846558</span>  <span style=\"color: #008080; text-decoration-color: #008080; font-weight: bold\">2</span>.        <span style=\"font-weight: bold\">]]</span>\n",
       "</pre>\n"
      ],
      "text/plain": [
       "\u001b[1m[\u001b[0m\u001b[1m[\u001b[0m \u001b[1;36m2\u001b[0m.         \u001b[1;36m21.25627642\u001b[0m\u001b[1m]\u001b[0m\n",
       " \u001b[1m[\u001b[0m \u001b[1;36m0.18846558\u001b[0m  \u001b[1;36m2\u001b[0m.        \u001b[1m]\u001b[0m\u001b[1m]\u001b[0m\n"
      ]
     },
     "metadata": {},
     "output_type": "display_data"
    },
    {
     "data": {
      "text/html": [
       "<pre style=\"white-space:pre;overflow-x:auto;line-height:normal;font-family:Menlo,'DejaVu Sans Mono',consolas,'Courier New',monospace\"><span style=\"font-weight: bold\">[[</span><span style=\"color: #008080; text-decoration-color: #008080; font-weight: bold\">2</span>.        <span style=\"font-weight: bold\">]</span>\n",
       " <span style=\"font-weight: bold\">[</span><span style=\"color: #008080; text-decoration-color: #008080; font-weight: bold\">0.18846558</span><span style=\"font-weight: bold\">]]</span>\n",
       "</pre>\n"
      ],
      "text/plain": [
       "\u001b[1m[\u001b[0m\u001b[1m[\u001b[0m\u001b[1;36m2\u001b[0m.        \u001b[1m]\u001b[0m\n",
       " \u001b[1m[\u001b[0m\u001b[1;36m0.18846558\u001b[0m\u001b[1m]\u001b[0m\u001b[1m]\u001b[0m\n"
      ]
     },
     "metadata": {},
     "output_type": "display_data"
    }
   ],
   "source": [
    "X_4 = (A.T.dot(A) ** -1).dot(A.T).dot(B)\n",
    "print(np.linalg.inv(np.dot(A.T, A)) @ A.T @ A)\n",
    "print((A.T.dot(A) ** -1) @ A.T @ A )  # -1 是对每个元素求倒，要用inv\n",
    "print(X_4)"
   ]
  },
  {
   "cell_type": "markdown",
   "metadata": {},
   "source": [
    "### 斐波那契（Fibonacci）数列通项\n",
    "$$\n",
    "\\begin{cases}\n",
    "F_{k+2} = F_{k+1} + F_{k} \\\\\n",
    "F_1 = 0 \\\\\n",
    "F_0 = 1\n",
    "\\end{cases}\n",
    "$$\n",
    "写出差分方程形式：\n",
    "$$\n",
    "\\begin{cases}\n",
    "F_{k+1} = F_{k+1} \\\\\n",
    "F_{k+2} = F_{k+1} + F_{k}\n",
    "\\end{cases}\n",
    "$$\n",
    "\n",
    "再写成矩阵形式！\n",
    "$$\n",
    "B_{k+1} = A \\cdot B_{k}\n",
    "$$\n",
    "之后的不写了，求等比数列"
   ]
  }
 ],
 "metadata": {
  "kernelspec": {
   "display_name": "Python 3",
   "language": "python",
   "name": "python3"
  },
  "language_info": {
   "codemirror_mode": {
    "name": "ipython",
    "version": 3
   },
   "file_extension": ".py",
   "mimetype": "text/x-python",
   "name": "python",
   "nbconvert_exporter": "python",
   "pygments_lexer": "ipython3",
   "version": "3.11.2"
  },
  "orig_nbformat": 4
 },
 "nbformat": 4,
 "nbformat_minor": 2
}
