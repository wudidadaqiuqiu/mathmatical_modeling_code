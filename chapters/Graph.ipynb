{
 "cells": [
  {
   "cell_type": "markdown",
   "metadata": {},
   "source": [
    "# 图 (看着玩玩)"
   ]
  },
  {
   "cell_type": "code",
   "execution_count": 1,
   "metadata": {},
   "outputs": [
    {
     "name": "stdout",
     "output_type": "stream",
     "text": [
      "c:\\Users\\的\\OneDrive\\桌面\\mathmatical_code\\chapters\n"
     ]
    }
   ],
   "source": [
    "import networkx as nx\n",
    "import matplotlib.pyplot as plt\n",
    "from pyvis.network import Network\n",
    "from matplotlib.animation import FuncAnimation\n",
    "import os\n",
    "path = os.path.abspath('.')\n",
    "print(path)"
   ]
  },
  {
   "cell_type": "markdown",
   "metadata": {},
   "source": [
    "## 最小生成树\n",
    "\n",
    "部分由chat-gpt生成"
   ]
  },
  {
   "cell_type": "code",
   "execution_count": 2,
   "metadata": {},
   "outputs": [
    {
     "data": {
      "image/png": "[encoded data removed]",
      "text/plain": [
       "<Figure size 640x480 with 1 Axes>"
      ]
     },
     "metadata": {},
     "output_type": "display_data"
    }
   ],
   "source": [
    "# Step 1: 构建图的数据结构\n",
    "G = nx.Graph()\n",
    "edges = [(1, 2, 3), (1, 3, 2), (2, 3, 4), (2, 4, 1), (3, 4, 5)]\n",
    "G.add_weighted_edges_from(edges)\n",
    "\n",
    "nx.draw(G, with_labels=True)"
   ]
  },
  {
   "cell_type": "code",
   "execution_count": 3,
   "metadata": {},
   "outputs": [
    {
     "name": "stdout",
     "output_type": "stream",
     "text": [
      "Warning: When  cdn_resources is 'local' jupyter notebook has issues displaying graphics on chrome/safari. Use cdn_resources='in_line' or cdn_resources='remote' if you have issues viewing graphics in a notebook.\n"
     ]
    }
   ],
   "source": [
    "# Step 2: 应用最小生成树算法\n",
    "mst_edges = nx.minimum_spanning_edges(G, algorithm='prim', data=False)\n",
    "mst = nx.Graph(list(mst_edges))\n",
    "\n",
    "# Step 3: 可视化\n",
    "# 创建动态网络可视化对象\n",
    "# nt = Network(notebook=True)\n",
    "nt = Network(notebook=True, cdn_resources='local')  # "
   ]
  },
  {
   "cell_type": "code",
   "execution_count": 4,
   "metadata": {},
   "outputs": [
    {
     "name": "stdout",
     "output_type": "stream",
     "text": [
      "c:\\Users\\的\\OneDrive\\桌面\\mathmatical_code\\chapters\\attachments\\original_graph.html\n"
     ]
    }
   ],
   "source": [
    "# 添加原始图的节点和边\n",
    "for node in G.nodes():\n",
    "    nt.add_node(node)\n",
    "\n",
    "for edge in G.edges():\n",
    "    nt.add_edge(edge[0], edge[1])\n",
    "\n",
    "# 展示原始图\n",
    "nt.show(os.path.join(path, 'attachments', 'original_graph.html'), notebook=False) ## 报错：UnicodeEncodeError: 'gbk' codec can't encode character '\\xa9' in position 230710: illegal multibyte sequence\n",
    "# 解决：https://stackoverflow.com/questions/75596534/in-pyvis-i-get-unicodeencodeerror-charmap-codec-cant-encode-characters-in-po\n",
    "\n",
    "# html = nt.generate_html()\n",
    "# with open(\"original_graph.html\", mode='w', encoding='utf-8') as fp:\n",
    "#         fp.write(html)\n",
    "# display(HTML(filename='original_graph.html')) # 不正常的显示，可使用浏览器打开.html"
   ]
  },
  {
   "cell_type": "code",
   "execution_count": 5,
   "metadata": {},
   "outputs": [
    {
     "name": "stdout",
     "output_type": "stream",
     "text": [
      "c:\\Users\\的\\OneDrive\\桌面\\mathmatical_code\\chapters\\attachments\\minimum_spanning_tree.html\n"
     ]
    }
   ],
   "source": [
    "# 添加最小生成树的节点和边，并用动态效果展示生成过程\n",
    "nt_bfs = Network()\n",
    "\n",
    "for node in G.nodes():\n",
    "    nt_bfs.add_node(node)\n",
    "\n",
    "for edge in mst.edges():\n",
    "    nt_bfs.add_edge(edge[0], edge[1])\n",
    "\n",
    "nt_bfs.show_buttons(filter_=['nodes', 'edges', 'physics'])\n",
    "nt_bfs.show(os.path.join(path, 'attachments', 'minimum_spanning_tree.html'), notebook=False)"
   ]
  },
  {
   "cell_type": "code",
   "execution_count": 6,
   "metadata": {},
   "outputs": [],
   "source": [
    "%matplotlib qt5\n",
    "fig, ax = plt.subplots()\n",
    "g_pos=nx.spring_layout(G)\n",
    "only_nodes = nx.Graph()\n",
    "only_nodes.add_nodes_from(G.nodes)\n",
    "# nx.draw(only_nodes, pos=g_pos)\n",
    "nx.draw(G, pos=g_pos, edge_color='lightgreen')\n",
    "def update(frame):\n",
    "    edges_to_draw = list(mst.edges())[:frame + 1]\n",
    "    nx.draw_networkx_edges(only_nodes, pos=g_pos, edgelist=edges_to_draw, edge_color='black')\n",
    "\n",
    "ani = FuncAnimation(fig, update, frames=len(list(mst.edges())), interval=500, repeat=False)"
   ]
  },
  {
   "cell_type": "markdown",
   "metadata": {},
   "source": [
    "## 最短路径"
   ]
  },
  {
   "cell_type": "code",
   "execution_count": 17,
   "metadata": {},
   "outputs": [],
   "source": [
    "os.chdir(os.path.dirname(path))\n",
    "from datastructure.graph.directedgraph import SPDiGraph, DirectedGraph, DirectedEdge, Node\n",
    "from datastructure.interator import IterQueue, brofir_iter_plus\n",
    "os.chdir(path)\n",
    "def bellman_ford_shortest_path(graph: SPDiGraph, node: Node):\n",
    "        assert node in graph.digraph.nodes\n",
    "        q, V, i, cycle_in = IterQueue([node, None]), graph.digraph.V, 0, []\n",
    "        def relax(nd: Node | None):\n",
    "            nonlocal i, V, cycle_in\n",
    "            if nd == None:\n",
    "                i += 1\n",
    "                return [None] if not q.empty() else [] # None 标志下一轮的开始和上一轮结束\n",
    "            if i == V:\n",
    "                cycle_in = q.pop_queue() # 清空队列结束\n",
    "                return []\n",
    "            return relaxnodes if (relaxnodes := graph.node_relax(nd)) else []\n",
    "        def added(nd: Node | None, qe: IterQueue):  # 将不在队列中的节点加入队列\n",
    "            if nd == None:\n",
    "                return (True, None) # 下一轮的开始\n",
    "            return (False, None) if nd in qe.get_queue() else (True, nd)\n",
    "        for node in brofir_iter_plus(q, relax, added, q):  # 广度搜素\n",
    "            pass\n",
    "        return cycle_in, i  # 队列还有没剩, 第几轮结束"
   ]
  },
  {
   "cell_type": "markdown",
   "metadata": {},
   "source": [
    "试分析用迭代实现的这种算法带来的扩展性方面的优越性 :)\n",
    "\n",
    "并稍加修改，利用该函数完成动态绘图 :D"
   ]
  },
  {
   "cell_type": "code",
   "execution_count": 18,
   "metadata": {},
   "outputs": [],
   "source": [
    "from datastructure.show.graph import draw_graph_with_labels\n",
    "# 参考答案\n",
    "def bellman_ford_shortest_path(graph: SPDiGraph, node: Node):\n",
    "        assert node in graph.digraph.nodes\n",
    "        q, V, i, cycle_in = IterQueue([node, None]), graph.digraph.V, 0, []\n",
    "        def relax(nd: Node | None):\n",
    "            nonlocal i, V, cycle_in\n",
    "            if nd == None:\n",
    "                i += 1\n",
    "                return [None] if not q.empty() else []\n",
    "            if i == V:\n",
    "                cycle_in = q.pop_queue() # 结束\n",
    "                return []\n",
    "            return relaxnodes if (relaxnodes := graph.node_relax(nd)) else []\n",
    "        def added(nd: Node | None, qe: IterQueue):  # 将不在队列中的节点加入队列\n",
    "            if nd == None:\n",
    "                return (True, None)\n",
    "            return (False, None) if nd in qe.get_queue() else (True, nd)\n",
    "        for node in brofir_iter_plus(q, relax, added, q):  # 广度搜素\n",
    "            yield node ####只改这两处, '生成器' 返回节点或None\n",
    "        yield cycle_in, i  # 队列还有没剩, 第几轮结束 返回元组"
   ]
  },
  {
   "cell_type": "code",
   "execution_count": 4,
   "metadata": {},
   "outputs": [
    {
     "data": {
      "image/png": "[encoded data removed]",
      "text/plain": [
       "<Figure size 640x480 with 1 Axes>"
      ]
     },
     "metadata": {},
     "output_type": "display_data"
    }
   ],
   "source": [
    "g = DirectedGraph()\n",
    "g.add_nodes(range(1, 10))\n",
    "g.add_edges([DirectedEdge(*t) for t in [(1,2,6), (1,3,3),(1,4,1),(2,5,1),(3,2,2),(3,4,2),\n",
    "                                        (4,6,10),(5,4,6),(5,6,4),(5,7,3),(5,8,6),(6,5,10),\n",
    "                                        (6,7,2),(7,8,4),(9,5,2),(9,8,3)]])\n",
    "G2 = draw_graph_with_labels(g)"
   ]
  },
  {
   "cell_type": "code",
   "execution_count": 16,
   "metadata": {},
   "outputs": [
    {
     "name": "stdout",
     "output_type": "stream",
     "text": [
      "2 [(1, 2, 6)]\n",
      "3 [(1, 2, 6), (1, 3, 3)]\n",
      "4 [(1, 2, 6), (1, 3, 3), (1, 4, 1)]\n",
      "5 [(2, 5, 1)]\n",
      "2 [(2, 5, 1), (3, 2, 2)]\n",
      "6 [(2, 5, 1), (3, 2, 2), (4, 6, 10)]\n",
      "7 [(5, 7, 3)]\n",
      "8 [(5, 7, 3), (5, 8, 6)]\n",
      "5 [(5, 7, 3), (5, 8, 6), (2, 5, 1)]\n",
      "6 [(5, 6, 4)]\n",
      "7 [(5, 6, 4), (5, 7, 3)]\n",
      "8 [(5, 6, 4), (5, 7, 3), (5, 8, 6)]\n"
     ]
    }
   ],
   "source": [
    "%matplotlib qt5\n",
    "fig2, ax2 = plt.subplots()\n",
    "spg = SPDiGraph(g, 1)\n",
    "spg_pos=nx.kamada_kawai_layout(G2, weight='weight')\n",
    "\n",
    "# 绘制带有权重的图，边的长度根据权重来设置\n",
    "edge_labels = {(u, v): d['weight'] for u, v, d in G2.edges(data=True)}\n",
    "nx.draw(G2, spg_pos, with_labels=True, node_color='lightblue', node_size=1000, font_size=12, edge_color='lightgreen')\n",
    "nx.draw_networkx_edge_labels(G2, spg_pos, edge_labels=edge_labels, font_size=10)\n",
    "\n",
    "node_or_end = bellman_ford_shortest_path(spg, spg.start)\n",
    "edges_for_hightlight = []\n",
    "# 前面都是准备工作\n",
    "def dynamic_draw_sp(frame):\n",
    "    global edges_for_hightlight\n",
    "    if isinstance((item := next(node_or_end)), tuple):\n",
    "        return None\n",
    "    if item == None:\n",
    "        nx.draw_networkx_edges(G2, pos=spg_pos, edgelist=edges_for_hightlight, edge_color='lightgreen')\n",
    "        edges_for_hightlight = []\n",
    "    if (edge := spg.edge_to(item)):\n",
    "        edges_for_hightlight.append((edge.from_nd, edge.to_nd, edge.weight))\n",
    "        print(item, edges_for_hightlight)\n",
    "        nx.draw_networkx_edges(G2, pos=spg_pos, edgelist=edges_for_hightlight, edge_color='red')\n",
    "\n",
    "ani = FuncAnimation(fig2, dynamic_draw_sp, frames=100, interval=500, repeat=True)"
   ]
  },
  {
   "cell_type": "markdown",
   "metadata": {},
   "source": [
    "## 最小费用最大流 / 运输问题"
   ]
  },
  {
   "cell_type": "markdown",
   "metadata": {},
   "source": [
    "可通过线性规划解决, 也可以通过图的算法解决"
   ]
  },
  {
   "cell_type": "markdown",
   "metadata": {},
   "source": [
    "### 运输问题"
   ]
  },
  {
   "cell_type": "markdown",
   "metadata": {},
   "source": [
    "- 产销平衡且确定"
   ]
  },
  {
   "cell_type": "code",
   "execution_count": 28,
   "metadata": {},
   "outputs": [
    {
     "data": {
      "text/html": [
       "<div>\n",
       "<style scoped>\n",
       "    .dataframe tbody tr th:only-of-type {\n",
       "        vertical-align: middle;\n",
       "    }\n",
       "\n",
       "    .dataframe tbody tr th {\n",
       "        vertical-align: top;\n",
       "    }\n",
       "\n",
       "    .dataframe thead th {\n",
       "        text-align: right;\n",
       "    }\n",
       "</style>\n",
       "<table border=\"1\" class=\"dataframe\">\n",
       "  <thead>\n",
       "    <tr style=\"text-align: right;\">\n",
       "      <th></th>\n",
       "      <th>B1</th>\n",
       "      <th>B2</th>\n",
       "      <th>B3</th>\n",
       "      <th>B4</th>\n",
       "      <th>产量</th>\n",
       "    </tr>\n",
       "  </thead>\n",
       "  <tbody>\n",
       "    <tr>\n",
       "      <th>A1</th>\n",
       "      <td>3</td>\n",
       "      <td>11</td>\n",
       "      <td>3</td>\n",
       "      <td>10</td>\n",
       "      <td>7</td>\n",
       "    </tr>\n",
       "    <tr>\n",
       "      <th>A2</th>\n",
       "      <td>1</td>\n",
       "      <td>9</td>\n",
       "      <td>2</td>\n",
       "      <td>8</td>\n",
       "      <td>4</td>\n",
       "    </tr>\n",
       "    <tr>\n",
       "      <th>A3</th>\n",
       "      <td>7</td>\n",
       "      <td>4</td>\n",
       "      <td>10</td>\n",
       "      <td>5</td>\n",
       "      <td>9</td>\n",
       "    </tr>\n",
       "    <tr>\n",
       "      <th>销量</th>\n",
       "      <td>3</td>\n",
       "      <td>6</td>\n",
       "      <td>5</td>\n",
       "      <td>6</td>\n",
       "      <td>20</td>\n",
       "    </tr>\n",
       "  </tbody>\n",
       "</table>\n",
       "</div>"
      ],
      "text/plain": [
       "    B1  B2  B3  B4  产量\n",
       "A1   3  11   3  10   7\n",
       "A2   1   9   2   8   4\n",
       "A3   7   4  10   5   9\n",
       "销量   3   6   5   6  20"
      ]
     },
     "metadata": {},
     "output_type": "display_data"
    }
   ],
   "source": [
    "import numpy as np\n",
    "import pandas as pd\n",
    "c = np.array([[3, 11, 3, 10],  # c[i, j] 为从A_i到B_j的单位运费\n",
    "              [1, 9, 2, 8],\n",
    "              [7, 4, 10, 5]])\n",
    "sales_volume = np.array([3, 6, 5, 6]) # B_j销量\n",
    "production = np.array([7, 4, 9])  # A_i产量\n",
    "\n",
    "assert np.sum(production) == np.sum(sales_volume) == 20\n",
    "\n",
    "# 拼接 ...\n",
    "d = np.vstack((c, sales_volume))\n",
    "dd = (np.hstack((production, [sum(production)])))\n",
    "ddd = np.concatenate((d, dd.reshape(4, 1)), axis=1) \n",
    "col = ['B1', 'B2', 'B3', 'B4', '产量']\n",
    "idx = ['A1', 'A2', 'A3', '销量']\n",
    "\n",
    "df = pd.DataFrame(ddd, idx, col)\n",
    "display(df)"
   ]
  },
  {
   "cell_type": "markdown",
   "metadata": {},
   "source": [
    "[线性规划解法](./Linear_Programming.ipynb)"
   ]
  },
  {
   "cell_type": "markdown",
   "metadata": {},
   "source": [
    "- 产销不平衡\n",
    "- 产销不确定\n",
    "\n",
    "以上这些都是两点之间的运输, 如果加上中转点，再加个虚拟的终点，就变成了经典的流量问题"
   ]
  },
  {
   "cell_type": "markdown",
   "metadata": {},
   "source": [
    "### 最小费用最大流\n",
    "[bilibili最小费用最大流](https://www.bilibili.com/video/BV1QC4y1a7KY/?spm_id_from=333.880.my_history.page.click&vd_source=0aa11dd1f6427f182264b35b09d2287f)\n",
    "\n",
    "先看完这个视频"
   ]
  },
  {
   "cell_type": "markdown",
   "metadata": {},
   "source": [
    "所以你可以发现, 关键在于以什么方式去找一条从起点到终点的路径, 最大流要求不断地找一条增广路, 直到找不到为止, 而最小费用则要求这条增广路是所有可行增广路中最短的\n",
    "\n",
    "现在不关心增广路或者最短增广路怎么找的, 就假设有这么一个函数能够返回这条路径, 我们需要做的就是不断迭代, 用最短路径那一节中提到的迭代的思路拼积木解决这个问题\n",
    "\n",
    "这里不打算实现这个算法"
   ]
  }
 ],
 "metadata": {
  "kernelspec": {
   "display_name": "Python 3",
   "language": "python",
   "name": "python3"
  },
  "language_info": {
   "codemirror_mode": {
    "name": "ipython",
    "version": 3
   },
   "file_extension": ".py",
   "mimetype": "text/x-python",
   "name": "python",
   "nbconvert_exporter": "python",
   "pygments_lexer": "ipython3",
   "version": "3.11.2"
  },
  "orig_nbformat": 4
 },
 "nbformat": 4,
 "nbformat_minor": 2
}
