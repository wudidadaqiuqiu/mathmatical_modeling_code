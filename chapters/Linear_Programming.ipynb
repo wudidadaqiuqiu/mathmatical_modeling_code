{
 "cells": [
  {
   "cell_type": "markdown",
   "metadata": {},
   "source": [
    "# 线性规划 Linear Programming\n",
    "参考自《Python与运筹优化》"
   ]
  },
  {
   "cell_type": "markdown",
   "metadata": {},
   "source": [
    "## 逻辑的数学表示\n",
    "### 条件约束\n",
    "$ B>0 \\space if \\space A>0$ 等价于\n",
    "$$\n",
    "s.t.\n",
    "    \\begin{cases}\n",
    "    s \\cdot A - max(A, 0) = 0 \\\\\n",
    "    s \\cdot M + B > 0 \\\\\n",
    "    s = 0 \\space or \\space 1\n",
    "    \\end{cases}\n",
    "$$ \n",
    "其中M为一个充分大的数\n",
    "\n",
    "- 或逻辑：\n",
    "\n",
    "$ B>0 \\space if \\space A_1>0 \\space or \\space A_2>0$ 等价于\n",
    "$$\n",
    "s.t.\n",
    "    \\begin{cases}\n",
    "    s_1 \\cdot A_1 - max(A, 0) = 0 \\\\\n",
    "    s_2 \\cdot A_2 - max(A, 0) = 0 \\\\\n",
    "    (s_1 + s_2) \\cdot M + B > 0 \\\\\n",
    "    s_1, s_2 = 0 \\space or \\space 1\n",
    "    \\end{cases}\n",
    "$$ \n",
    "\n",
    "- 与逻辑：\n",
    "\n",
    "$ B>0 \\space if \\space A_1>0 \\space and \\space A_2>0$ 等价于\n",
    "$$\n",
    "s.t.\n",
    "    \\begin{cases}\n",
    "    s_1 \\cdot A_1 - max(A, 0) = 0 \\\\\n",
    "    s_2 \\cdot A_2 - max(A, 0) = 0 \\\\\n",
    "    (|s_1 + s_2| - |s_1 - s_2|) \\cdot M + B > 0 \\\\\n",
    "    s_1, s_2 = 0 \\space or \\space 1\n",
    "    \\end{cases}\n",
    "$$ "
   ]
  },
  {
   "cell_type": "code",
   "execution_count": null,
   "metadata": {},
   "outputs": [],
   "source": []
  }
 ],
 "metadata": {
  "language_info": {
   "name": "python"
  },
  "orig_nbformat": 4
 },
 "nbformat": 4,
 "nbformat_minor": 2
}
