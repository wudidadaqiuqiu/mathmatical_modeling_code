{
 "cells": [
  {
   "cell_type": "markdown",
   "metadata": {},
   "source": [
    "# 线性规划 Linear Programming\n",
    "参考自《Python与运筹优化》"
   ]
  },
  {
   "cell_type": "markdown",
   "metadata": {},
   "source": [
    "## 逻辑的数学表示\n",
    "### 条件约束\n",
    "$ B>0 \\space if \\space A>0$ 等价于\n",
    "$$\n",
    "s.t.\n",
    "    \\begin{cases}\n",
    "    s \\cdot A - max(A, 0) = 0 \\\\\n",
    "    s \\cdot M + B > 0 \\\\\n",
    "    s = 0 \\space or \\space 1\n",
    "    \\end{cases}\n",
    "$$ \n",
    "其中M为一个充分大的数\n",
    "\n",
    "- 或逻辑：\n",
    "\n",
    "$ B>0 \\space if \\space A_1>0 \\space or \\space A_2>0$ 等价于\n",
    "$$\n",
    "s.t.\n",
    "    \\begin{cases}\n",
    "    s_1 \\cdot A_1 - max(A, 0) = 0 \\\\\n",
    "    s_2 \\cdot A_2 - max(A, 0) = 0 \\\\\n",
    "    (s_1 + s_2) \\cdot M + B > 0 \\\\\n",
    "    s_1, s_2 = 0 \\space or \\space 1\n",
    "    \\end{cases}\n",
    "$$ \n",
    "\n",
    "- 与逻辑：\n",
    "\n",
    "$ B>0 \\space if \\space A_1>0 \\space and \\space A_2>0$ 等价于\n",
    "$$\n",
    "s.t.\n",
    "    \\begin{cases}\n",
    "    s_1 \\cdot A_1 - max(A, 0) = 0 \\\\\n",
    "    s_2 \\cdot A_2 - max(A, 0) = 0 \\\\\n",
    "    (|s_1 + s_2| - |s_1 - s_2|) \\cdot M + B > 0 \\\\\n",
    "    s_1, s_2 = 0 \\space or \\space 1\n",
    "    \\end{cases}\n",
    "$$ "
   ]
  },
  {
   "cell_type": "markdown",
   "metadata": {},
   "source": [
    "## 运输问题"
   ]
  },
  {
   "cell_type": "markdown",
   "metadata": {},
   "source": [
    "### 产销平衡且确定"
   ]
  },
  {
   "cell_type": "code",
   "execution_count": 13,
   "metadata": {},
   "outputs": [
    {
     "data": {
      "text/html": [
       "<pre style=\"white-space:pre;overflow-x:auto;line-height:normal;font-family:Menlo,'DejaVu Sans Mono',consolas,'Courier New',monospace\"><span style=\"font-weight: bold\">[[</span><span style=\"color: #008080; text-decoration-color: #008080; font-weight: bold\">2</span>. <span style=\"color: #008080; text-decoration-color: #008080; font-weight: bold\">0</span>. <span style=\"color: #008080; text-decoration-color: #008080; font-weight: bold\">5</span>. <span style=\"color: #008080; text-decoration-color: #008080; font-weight: bold\">0</span>.<span style=\"font-weight: bold\">]</span>\n",
       " <span style=\"font-weight: bold\">[</span><span style=\"color: #008080; text-decoration-color: #008080; font-weight: bold\">1</span>. <span style=\"color: #008080; text-decoration-color: #008080; font-weight: bold\">0</span>. <span style=\"color: #008080; text-decoration-color: #008080; font-weight: bold\">0</span>. <span style=\"color: #008080; text-decoration-color: #008080; font-weight: bold\">3</span>.<span style=\"font-weight: bold\">]</span>\n",
       " <span style=\"font-weight: bold\">[</span><span style=\"color: #008080; text-decoration-color: #008080; font-weight: bold\">0</span>. <span style=\"color: #008080; text-decoration-color: #008080; font-weight: bold\">6</span>. <span style=\"color: #008080; text-decoration-color: #008080; font-weight: bold\">0</span>. <span style=\"color: #008080; text-decoration-color: #008080; font-weight: bold\">3</span>.<span style=\"font-weight: bold\">]]</span>\n",
       "\n",
       "<span style=\"color: #008080; text-decoration-color: #008080; font-weight: bold\">85.0</span>\n",
       "</pre>\n"
      ],
      "text/plain": [
       "\u001b[1m[\u001b[0m\u001b[1m[\u001b[0m\u001b[1;36m2\u001b[0m. \u001b[1;36m0\u001b[0m. \u001b[1;36m5\u001b[0m. \u001b[1;36m0\u001b[0m.\u001b[1m]\u001b[0m\n",
       " \u001b[1m[\u001b[0m\u001b[1;36m1\u001b[0m. \u001b[1;36m0\u001b[0m. \u001b[1;36m0\u001b[0m. \u001b[1;36m3\u001b[0m.\u001b[1m]\u001b[0m\n",
       " \u001b[1m[\u001b[0m\u001b[1;36m0\u001b[0m. \u001b[1;36m6\u001b[0m. \u001b[1;36m0\u001b[0m. \u001b[1;36m3\u001b[0m.\u001b[1m]\u001b[0m\u001b[1m]\u001b[0m\n",
       "\n",
       "\u001b[1;36m85.0\u001b[0m\n"
      ]
     },
     "metadata": {},
     "output_type": "display_data"
    }
   ],
   "source": [
    "import os\n",
    "os.chdir('..')  # 改变工作路径\n",
    "\n",
    "from rich import print\n",
    "import numpy as np\n",
    "from problem_solving.transportation_problem import balance_transportation_problem\n",
    "##  示例\n",
    "c = np.array([[3, 11, 3, 10],  # c[i, j] 为从A_i到B_j的单位运费\n",
    "              [1, 9, 2, 8],\n",
    "              [7, 4, 10, 5]])\n",
    "sales_volume = np.array([3, 6, 5, 6]) # B_j销量 j = 0, 1, 2, 3\n",
    "production = np.array([7, 4, 9])  # A_i产量\n",
    "\n",
    "print(*balance_transportation_problem(c, production, sales_volume), sep='\\n\\n')"
   ]
  },
  {
   "cell_type": "markdown",
   "metadata": {},
   "source": [
    "### 产销不平衡\n",
    "- 修改线性规划代码\n",
    "- 转换成平衡问题, 虚拟出一个垃圾倾销地, 或者一个新的产地\n",
    "\n",
    "这里展示将问题转换成平衡问题"
   ]
  },
  {
   "cell_type": "code",
   "execution_count": 16,
   "metadata": {},
   "outputs": [
    {
     "data": {
      "text/html": [
       "<pre style=\"white-space:pre;overflow-x:auto;line-height:normal;font-family:Menlo,'DejaVu Sans Mono',consolas,'Courier New',monospace\"><span style=\"font-weight: bold\">[</span> <span style=\"color: #008080; text-decoration-color: #008080; font-weight: bold\">8</span>  <span style=\"color: #008080; text-decoration-color: #008080; font-weight: bold\">5</span> <span style=\"color: #008080; text-decoration-color: #008080; font-weight: bold\">10</span><span style=\"font-weight: bold\">]</span>\n",
       "</pre>\n"
      ],
      "text/plain": [
       "\u001b[1m[\u001b[0m \u001b[1;36m8\u001b[0m  \u001b[1;36m5\u001b[0m \u001b[1;36m10\u001b[0m\u001b[1m]\u001b[0m\n"
      ]
     },
     "metadata": {},
     "output_type": "display_data"
    },
    {
     "data": {
      "text/html": [
       "<pre style=\"white-space:pre;overflow-x:auto;line-height:normal;font-family:Menlo,'DejaVu Sans Mono',consolas,'Courier New',monospace\"><span style=\"font-weight: bold\">[[</span> <span style=\"color: #008080; text-decoration-color: #008080; font-weight: bold\">3</span> <span style=\"color: #008080; text-decoration-color: #008080; font-weight: bold\">11</span>  <span style=\"color: #008080; text-decoration-color: #008080; font-weight: bold\">3</span> <span style=\"color: #008080; text-decoration-color: #008080; font-weight: bold\">10</span>  <span style=\"color: #008080; text-decoration-color: #008080; font-weight: bold\">0</span><span style=\"font-weight: bold\">]</span>\n",
       " <span style=\"font-weight: bold\">[</span> <span style=\"color: #008080; text-decoration-color: #008080; font-weight: bold\">1</span>  <span style=\"color: #008080; text-decoration-color: #008080; font-weight: bold\">9</span>  <span style=\"color: #008080; text-decoration-color: #008080; font-weight: bold\">2</span>  <span style=\"color: #008080; text-decoration-color: #008080; font-weight: bold\">8</span>  <span style=\"color: #008080; text-decoration-color: #008080; font-weight: bold\">0</span><span style=\"font-weight: bold\">]</span>\n",
       " <span style=\"font-weight: bold\">[</span> <span style=\"color: #008080; text-decoration-color: #008080; font-weight: bold\">7</span>  <span style=\"color: #008080; text-decoration-color: #008080; font-weight: bold\">4</span> <span style=\"color: #008080; text-decoration-color: #008080; font-weight: bold\">10</span>  <span style=\"color: #008080; text-decoration-color: #008080; font-weight: bold\">5</span>  <span style=\"color: #008080; text-decoration-color: #008080; font-weight: bold\">0</span><span style=\"font-weight: bold\">]]</span>\n",
       "</pre>\n"
      ],
      "text/plain": [
       "\u001b[1m[\u001b[0m\u001b[1m[\u001b[0m \u001b[1;36m3\u001b[0m \u001b[1;36m11\u001b[0m  \u001b[1;36m3\u001b[0m \u001b[1;36m10\u001b[0m  \u001b[1;36m0\u001b[0m\u001b[1m]\u001b[0m\n",
       " \u001b[1m[\u001b[0m \u001b[1;36m1\u001b[0m  \u001b[1;36m9\u001b[0m  \u001b[1;36m2\u001b[0m  \u001b[1;36m8\u001b[0m  \u001b[1;36m0\u001b[0m\u001b[1m]\u001b[0m\n",
       " \u001b[1m[\u001b[0m \u001b[1;36m7\u001b[0m  \u001b[1;36m4\u001b[0m \u001b[1;36m10\u001b[0m  \u001b[1;36m5\u001b[0m  \u001b[1;36m0\u001b[0m\u001b[1m]\u001b[0m\u001b[1m]\u001b[0m\n"
      ]
     },
     "metadata": {},
     "output_type": "display_data"
    },
    {
     "data": {
      "text/html": [
       "<pre style=\"white-space:pre;overflow-x:auto;line-height:normal;font-family:Menlo,'DejaVu Sans Mono',consolas,'Courier New',monospace\"><span style=\"font-weight: bold\">[</span><span style=\"color: #008080; text-decoration-color: #008080; font-weight: bold\">3</span> <span style=\"color: #008080; text-decoration-color: #008080; font-weight: bold\">6</span> <span style=\"color: #008080; text-decoration-color: #008080; font-weight: bold\">5</span> <span style=\"color: #008080; text-decoration-color: #008080; font-weight: bold\">6</span> <span style=\"color: #008080; text-decoration-color: #008080; font-weight: bold\">3</span><span style=\"font-weight: bold\">]</span>\n",
       "</pre>\n"
      ],
      "text/plain": [
       "\u001b[1m[\u001b[0m\u001b[1;36m3\u001b[0m \u001b[1;36m6\u001b[0m \u001b[1;36m5\u001b[0m \u001b[1;36m6\u001b[0m \u001b[1;36m3\u001b[0m\u001b[1m]\u001b[0m\n"
      ]
     },
     "metadata": {},
     "output_type": "display_data"
    },
    {
     "data": {
      "text/html": [
       "<pre style=\"white-space:pre;overflow-x:auto;line-height:normal;font-family:Menlo,'DejaVu Sans Mono',consolas,'Courier New',monospace\"><span style=\"font-weight: bold\">[[</span><span style=\"color: #008080; text-decoration-color: #008080; font-weight: bold\">0</span>. <span style=\"color: #008080; text-decoration-color: #008080; font-weight: bold\">0</span>. <span style=\"color: #008080; text-decoration-color: #008080; font-weight: bold\">5</span>. <span style=\"color: #008080; text-decoration-color: #008080; font-weight: bold\">0</span>. <span style=\"color: #008080; text-decoration-color: #008080; font-weight: bold\">3</span>.<span style=\"font-weight: bold\">]</span>\n",
       " <span style=\"font-weight: bold\">[</span><span style=\"color: #008080; text-decoration-color: #008080; font-weight: bold\">3</span>. <span style=\"color: #008080; text-decoration-color: #008080; font-weight: bold\">0</span>. <span style=\"color: #008080; text-decoration-color: #008080; font-weight: bold\">0</span>. <span style=\"color: #008080; text-decoration-color: #008080; font-weight: bold\">2</span>. <span style=\"color: #008080; text-decoration-color: #008080; font-weight: bold\">0</span>.<span style=\"font-weight: bold\">]</span>\n",
       " <span style=\"font-weight: bold\">[</span><span style=\"color: #008080; text-decoration-color: #008080; font-weight: bold\">0</span>. <span style=\"color: #008080; text-decoration-color: #008080; font-weight: bold\">6</span>. <span style=\"color: #008080; text-decoration-color: #008080; font-weight: bold\">0</span>. <span style=\"color: #008080; text-decoration-color: #008080; font-weight: bold\">4</span>. <span style=\"color: #008080; text-decoration-color: #008080; font-weight: bold\">0</span>.<span style=\"font-weight: bold\">]]</span>\n",
       "\n",
       "<span style=\"color: #008080; text-decoration-color: #008080; font-weight: bold\">78.0</span>\n",
       "</pre>\n"
      ],
      "text/plain": [
       "\u001b[1m[\u001b[0m\u001b[1m[\u001b[0m\u001b[1;36m0\u001b[0m. \u001b[1;36m0\u001b[0m. \u001b[1;36m5\u001b[0m. \u001b[1;36m0\u001b[0m. \u001b[1;36m3\u001b[0m.\u001b[1m]\u001b[0m\n",
       " \u001b[1m[\u001b[0m\u001b[1;36m3\u001b[0m. \u001b[1;36m0\u001b[0m. \u001b[1;36m0\u001b[0m. \u001b[1;36m2\u001b[0m. \u001b[1;36m0\u001b[0m.\u001b[1m]\u001b[0m\n",
       " \u001b[1m[\u001b[0m\u001b[1;36m0\u001b[0m. \u001b[1;36m6\u001b[0m. \u001b[1;36m0\u001b[0m. \u001b[1;36m4\u001b[0m. \u001b[1;36m0\u001b[0m.\u001b[1m]\u001b[0m\u001b[1m]\u001b[0m\n",
       "\n",
       "\u001b[1;36m78.0\u001b[0m\n"
      ]
     },
     "metadata": {},
     "output_type": "display_data"
    }
   ],
   "source": [
    "# 供过于求\n",
    "production2 = production + 1\n",
    "print(production2)\n",
    "\n",
    "c2 = np.hstack((c, np.array([0, 0, 0]).reshape(3, 1)))\n",
    "print(c2)\n",
    "\n",
    "sales_volume2 = np.hstack((sales_volume, [np.sum(production2) - np.sum(sales_volume)]))\n",
    "print(sales_volume2)\n",
    "\n",
    "print(*balance_transportation_problem(c2, production2, sales_volume2), sep='\\n\\n')"
   ]
  },
  {
   "cell_type": "markdown",
   "metadata": {},
   "source": [
    "### 产销不确定\n",
    "\n",
    "这里演示如何转换成平衡问题"
   ]
  },
  {
   "cell_type": "code",
   "execution_count": 35,
   "metadata": {},
   "outputs": [
    {
     "data": {
      "text/html": [
       "<pre style=\"white-space:pre;overflow-x:auto;line-height:normal;font-family:Menlo,'DejaVu Sans Mono',consolas,'Courier New',monospace\"><span style=\"font-weight: bold\">[</span><span style=\"color: #008080; text-decoration-color: #008080; font-weight: bold\">3</span> <span style=\"color: #008080; text-decoration-color: #008080; font-weight: bold\">4</span>~<span style=\"color: #008080; text-decoration-color: #008080; font-weight: bold\">7</span> <span style=\"color: #008080; text-decoration-color: #008080; font-weight: bold\">5</span> <span style=\"color: #008080; text-decoration-color: #008080; font-weight: bold\">6</span><span style=\"font-weight: bold\">]</span>\n",
       "</pre>\n"
      ],
      "text/plain": [
       "\u001b[1m[\u001b[0m\u001b[1;36m3\u001b[0m \u001b[1;36m4\u001b[0m~\u001b[1;36m7\u001b[0m \u001b[1;36m5\u001b[0m \u001b[1;36m6\u001b[0m\u001b[1m]\u001b[0m\n"
      ]
     },
     "metadata": {},
     "output_type": "display_data"
    },
    {
     "data": {
      "text/html": [
       "<pre style=\"white-space:pre;overflow-x:auto;line-height:normal;font-family:Menlo,'DejaVu Sans Mono',consolas,'Courier New',monospace\"><span style=\"font-weight: bold\">[[</span><span style=\"color: #008080; text-decoration-color: #008080; font-weight: bold\">2</span>. <span style=\"color: #008080; text-decoration-color: #008080; font-weight: bold\">0</span>. <span style=\"color: #008080; text-decoration-color: #008080; font-weight: bold\">5</span>. <span style=\"color: #008080; text-decoration-color: #008080; font-weight: bold\">0</span>. <span style=\"color: #008080; text-decoration-color: #008080; font-weight: bold\">0</span>.<span style=\"font-weight: bold\">]</span>\n",
       " <span style=\"font-weight: bold\">[</span><span style=\"color: #008080; text-decoration-color: #008080; font-weight: bold\">1</span>. <span style=\"color: #008080; text-decoration-color: #008080; font-weight: bold\">0</span>. <span style=\"color: #008080; text-decoration-color: #008080; font-weight: bold\">0</span>. <span style=\"color: #008080; text-decoration-color: #008080; font-weight: bold\">3</span>. <span style=\"color: #008080; text-decoration-color: #008080; font-weight: bold\">0</span>.<span style=\"font-weight: bold\">]</span>\n",
       " <span style=\"font-weight: bold\">[</span><span style=\"color: #008080; text-decoration-color: #008080; font-weight: bold\">0</span>. <span style=\"color: #008080; text-decoration-color: #008080; font-weight: bold\">4</span>. <span style=\"color: #008080; text-decoration-color: #008080; font-weight: bold\">0</span>. <span style=\"color: #008080; text-decoration-color: #008080; font-weight: bold\">3</span>. <span style=\"color: #008080; text-decoration-color: #008080; font-weight: bold\">2</span>.<span style=\"font-weight: bold\">]</span>\n",
       " <span style=\"font-weight: bold\">[</span><span style=\"color: #008080; text-decoration-color: #008080; font-weight: bold\">0</span>. <span style=\"color: #008080; text-decoration-color: #008080; font-weight: bold\">0</span>. <span style=\"color: #008080; text-decoration-color: #008080; font-weight: bold\">0</span>. <span style=\"color: #008080; text-decoration-color: #008080; font-weight: bold\">0</span>. <span style=\"color: #008080; text-decoration-color: #008080; font-weight: bold\">1</span>.<span style=\"font-weight: bold\">]]</span>\n",
       "\n",
       "<span style=\"color: #008080; text-decoration-color: #008080; font-weight: bold\">85.0</span>\n",
       "</pre>\n"
      ],
      "text/plain": [
       "\u001b[1m[\u001b[0m\u001b[1m[\u001b[0m\u001b[1;36m2\u001b[0m. \u001b[1;36m0\u001b[0m. \u001b[1;36m5\u001b[0m. \u001b[1;36m0\u001b[0m. \u001b[1;36m0\u001b[0m.\u001b[1m]\u001b[0m\n",
       " \u001b[1m[\u001b[0m\u001b[1;36m1\u001b[0m. \u001b[1;36m0\u001b[0m. \u001b[1;36m0\u001b[0m. \u001b[1;36m3\u001b[0m. \u001b[1;36m0\u001b[0m.\u001b[1m]\u001b[0m\n",
       " \u001b[1m[\u001b[0m\u001b[1;36m0\u001b[0m. \u001b[1;36m4\u001b[0m. \u001b[1;36m0\u001b[0m. \u001b[1;36m3\u001b[0m. \u001b[1;36m2\u001b[0m.\u001b[1m]\u001b[0m\n",
       " \u001b[1m[\u001b[0m\u001b[1;36m0\u001b[0m. \u001b[1;36m0\u001b[0m. \u001b[1;36m0\u001b[0m. \u001b[1;36m0\u001b[0m. \u001b[1;36m1\u001b[0m.\u001b[1m]\u001b[0m\u001b[1m]\u001b[0m\n",
       "\n",
       "\u001b[1;36m85.0\u001b[0m\n"
      ]
     },
     "metadata": {},
     "output_type": "display_data"
    }
   ],
   "source": [
    "Num = float | int\n",
    "\n",
    "class RangeNum(object):\n",
    "    def __init__(self, l) -> None:\n",
    "        super().__init__()\n",
    "        if isinstance(l, tuple):\n",
    "            assert l[0] <= l[1]\n",
    "            if l[0] == l[1]:\n",
    "                self.lower_bound = self.upper_bound = l[0]\n",
    "            else:\n",
    "                self.lower_bound, self.upper_bound = l\n",
    "            return\n",
    "        assert isinstance(l, Num)\n",
    "        self.lower_bound = self.upper_bound = l\n",
    "    \n",
    "    def is_no_range(self):\n",
    "        return self.lower_bound == self.upper_bound\n",
    "    \n",
    "    def __str__(self) -> str:\n",
    "        if self.is_no_range():\n",
    "            return str(self.lower_bound)\n",
    "        return f'{self.lower_bound}~{self.upper_bound}'\n",
    "\n",
    "    def __repr__(self) -> str:\n",
    "        return str(self)\n",
    "\n",
    "sales_volume3 = np.array([RangeNum(i) for i in [3, (4, 7), 5, 6]])\n",
    "print(sales_volume3)\n",
    "M = 1000\n",
    "c3 = c = np.array([[3, 11, 3, 10, 11],  # c[i, j] 为从A_i到B_j的单位运费\n",
    "                   [1, 9, 2, 8, 9],\n",
    "                   [7, 4, 10, 5, 4],\n",
    "                   [M, M, M, M, 0]])\n",
    "sales_volume3 = np.array([3, 4, 5, 6, 7-4])\n",
    "production3 = np.array([7, 4, 9, 1])\n",
    "\n",
    "print(*balance_transportation_problem(c3, production3, sales_volume3), sep='\\n\\n')"
   ]
  },
  {
   "cell_type": "markdown",
   "metadata": {},
   "source": [
    "这里的结果与第一例一样, 因为肯定不做无用功, 如果是有两个不确定, 这个例子就显得更有意义些"
   ]
  },
  {
   "cell_type": "markdown",
   "metadata": {},
   "source": [
    "## 灵敏度分析\n",
    "全部摘抄自《Python与运筹优化》"
   ]
  },
  {
   "cell_type": "code",
   "execution_count": 17,
   "metadata": {},
   "outputs": [],
   "source": [
    "import pandas as pd\n",
    "import gurobipy as gp\n",
    "\n",
    "def LP_Model_Analysis(MODEL,precision=3):\n",
    "    if MODEL.status == gp.GRB.Status.OPTIMAL:\n",
    "        pd.set_option('display.precision', precision)\n",
    "        #设置精度\n",
    "        print(\"\\nGlobal optimal solution found.\")\n",
    "        print(f\"Objective Sense:{'MINIMIZE' if MODEL.ModelSense ==1 else 'MAXIMIZE'}\")\n",
    "        print(f\"Objective Value = {MODEL.ObjVal}\")\n",
    "        try:\n",
    "            display(pd.DataFrame([[var.X, var.RC]for var in MODEL.getVars()],\n",
    "                               index=[var.Varname for var in MODEL.getVars()],\n",
    "                               columns=[\"Value\", \"Reduced Cost\"]))\n",
    "            print('左边是求解出的变量取值, 右边表示减少一个单位这个变量的将增加多少代价',\n",
    "                  '因为变量被默认限制大于等于0, 所以可以看到x[1]和x[6]已经减至最低', sep='\\n')\n",
    "            display(pd.DataFrame([[Constr.Slack, Constr.pi] for Constr in MODEL.getConstrs()],\n",
    "                               index=[Constr.constrName for Constr in MODEL.getConstrs()],\n",
    "                               columns=[\"Slack or Surplus\", \"DualPrice\"]))\n",
    "            print('这个表格说明了约束条件右侧系数对解的影响',\n",
    "                  '中间一栏是松弛变量, 就是约束条件右侧减左侧还剩多少, 可以理解为资源还剩多少, 等式约束显得没有意义',\n",
    "                  '右边一栏是影子价格, 表明目标对右侧系数(这种资源)的变化率, 具体在表格中就说明了增加一桶牛奶会带来37.92的收益',\n",
    "                  '这是求最大目标时的情况, 求最小时会不会反过来还没试过', sep='\\n')\n",
    "            print(\"\\nRanges in which the basis is unchanged:\")\n",
    "            display(pd.DataFrame([[var.Obj,var.SAObjLow,var.SAObjUp]for var in MODEL.getVars()],\n",
    "                               index=[var.Varname for var in MODEL.getVars()],\n",
    "                               columns=[\"Cofficient\",\"Allowable Minimize\",\"Allowable Maximize\"]))\n",
    "            print('决策变量价值系数在什么范围内变动不会使最优解(决策变量取值)改变',\n",
    "                  '应该指的是控制其他不变只有这个变时的情况', sep='\\n')\n",
    "            print(\"Righthand Side Ranges:\")\n",
    "            display(pd.DataFrame([[Constr.RHS, Constr.SARHSLow, Constr.SARHSUp] for Constr in MODEL.getConstrs()], \n",
    "                               index=[Constr.constrName for Constr in MODEL.getConstrs()],\n",
    "                               columns=[\"RHS\",\"Allowable Minimize\",\"Allowable Maximize\"]))\n",
    "        except:\n",
    "            display(pd.DataFrame([var.X for var in MODEL.getVars()],\n",
    "                               index=[var.Varname for var in MODEL.getVars()],\n",
    "                               columns=[\"Value\"]))\n",
    "            display(pd.DataFrame([Constr.Slack for Constr in MODEL.getConstrs()],\n",
    "                               index=[Constr.constrName for Constr in MODEL.getConstrs()],\n",
    "                               columns=[\"Slack or Surplus\"]))"
   ]
  },
  {
   "cell_type": "code",
   "execution_count": 18,
   "metadata": {},
   "outputs": [
    {
     "name": "stdout",
     "output_type": "stream",
     "text": [
      "Gurobi Optimizer version 10.0.2 build v10.0.2rc0 (win64)\n",
      "\n",
      "CPU model: 12th Gen Intel(R) Core(TM) i5-12500H, instruction set [SSE2|AVX|AVX2]\n",
      "Thread count: 12 physical cores, 16 logical processors, using up to 16 threads\n",
      "\n",
      "Optimize a model with 5 rows, 6 columns and 14 nonzeros\n",
      "Model fingerprint: 0xff031ad2\n",
      "Coefficient statistics:\n",
      "  Matrix range     [3e-01, 6e+00]\n",
      "  Objective range  [3e+00, 4e+01]\n",
      "  Bounds range     [0e+00, 0e+00]\n",
      "  RHS range        [5e+01, 5e+02]\n",
      "Presolve removed 2 rows and 2 columns\n",
      "Presolve time: 0.00s\n",
      "Presolved: 3 rows, 4 columns, 10 nonzeros\n",
      "\n",
      "Iteration    Objective       Primal Inf.    Dual Inf.      Time\n",
      "       0    4.8300000e+03   7.370950e+01   0.000000e+00      0s\n",
      "       3    3.4608000e+03   0.000000e+00   0.000000e+00      0s\n",
      "\n",
      "Solved in 3 iterations and 0.01 seconds (0.00 work units)\n",
      "Optimal objective  3.460800000e+03\n"
     ]
    },
    {
     "data": {
      "text/html": [
       "<pre style=\"white-space:pre;overflow-x:auto;line-height:normal;font-family:Menlo,'DejaVu Sans Mono',consolas,'Courier New',monospace\">\n",
       "Global optimal solution found.\n",
       "</pre>\n"
      ],
      "text/plain": [
       "\n",
       "Global optimal solution found.\n"
      ]
     },
     "metadata": {},
     "output_type": "display_data"
    },
    {
     "data": {
      "text/html": [
       "<pre style=\"white-space:pre;overflow-x:auto;line-height:normal;font-family:Menlo,'DejaVu Sans Mono',consolas,'Courier New',monospace\">Objective Sense:MAXIMIZE\n",
       "</pre>\n"
      ],
      "text/plain": [
       "Objective Sense:MAXIMIZE\n"
      ]
     },
     "metadata": {},
     "output_type": "display_data"
    },
    {
     "data": {
      "text/html": [
       "<pre style=\"white-space:pre;overflow-x:auto;line-height:normal;font-family:Menlo,'DejaVu Sans Mono',consolas,'Courier New',monospace\">Objective Value = <span style=\"color: #008080; text-decoration-color: #008080; font-weight: bold\">3460.8</span>\n",
       "</pre>\n"
      ],
      "text/plain": [
       "Objective Value = \u001b[1;36m3460.8\u001b[0m\n"
      ]
     },
     "metadata": {},
     "output_type": "display_data"
    },
    {
     "data": {
      "text/html": [
       "<div>\n",
       "<style scoped>\n",
       "    .dataframe tbody tr th:only-of-type {\n",
       "        vertical-align: middle;\n",
       "    }\n",
       "\n",
       "    .dataframe tbody tr th {\n",
       "        vertical-align: top;\n",
       "    }\n",
       "\n",
       "    .dataframe thead th {\n",
       "        text-align: right;\n",
       "    }\n",
       "</style>\n",
       "<table border=\"1\" class=\"dataframe\">\n",
       "  <thead>\n",
       "    <tr style=\"text-align: right;\">\n",
       "      <th></th>\n",
       "      <th>Value</th>\n",
       "      <th>Reduced Cost</th>\n",
       "    </tr>\n",
       "  </thead>\n",
       "  <tbody>\n",
       "    <tr>\n",
       "      <th>x[1]</th>\n",
       "      <td>0.0</td>\n",
       "      <td>-1.68</td>\n",
       "    </tr>\n",
       "    <tr>\n",
       "      <th>x[2]</th>\n",
       "      <td>168.0</td>\n",
       "      <td>0.00</td>\n",
       "    </tr>\n",
       "    <tr>\n",
       "      <th>x[3]</th>\n",
       "      <td>19.2</td>\n",
       "      <td>0.00</td>\n",
       "    </tr>\n",
       "    <tr>\n",
       "      <th>x[4]</th>\n",
       "      <td>0.0</td>\n",
       "      <td>0.00</td>\n",
       "    </tr>\n",
       "    <tr>\n",
       "      <th>x[5]</th>\n",
       "      <td>24.0</td>\n",
       "      <td>0.00</td>\n",
       "    </tr>\n",
       "    <tr>\n",
       "      <th>x[6]</th>\n",
       "      <td>0.0</td>\n",
       "      <td>-1.52</td>\n",
       "    </tr>\n",
       "  </tbody>\n",
       "</table>\n",
       "</div>"
      ],
      "text/plain": [
       "      Value  Reduced Cost\n",
       "x[1]    0.0         -1.68\n",
       "x[2]  168.0          0.00\n",
       "x[3]   19.2          0.00\n",
       "x[4]    0.0          0.00\n",
       "x[5]   24.0          0.00\n",
       "x[6]    0.0         -1.52"
      ]
     },
     "metadata": {},
     "output_type": "display_data"
    },
    {
     "data": {
      "text/html": [
       "<pre style=\"white-space:pre;overflow-x:auto;line-height:normal;font-family:Menlo,'DejaVu Sans Mono',consolas,'Courier New',monospace\">左边是求解出的变量取值, 右边表示减少一个单位这个变量的将增加多少代价\n",
       "因为变量被默认限制大于等于0, 所以可以看到x<span style=\"font-weight: bold\">[</span><span style=\"color: #008080; text-decoration-color: #008080; font-weight: bold\">1</span><span style=\"font-weight: bold\">]</span>和x<span style=\"font-weight: bold\">[</span><span style=\"color: #008080; text-decoration-color: #008080; font-weight: bold\">6</span><span style=\"font-weight: bold\">]</span>已经减至最低\n",
       "</pre>\n"
      ],
      "text/plain": [
       "左边是求解出的变量取值, 右边表示减少一个单位这个变量的将增加多少代价\n",
       "因为变量被默认限制大于等于0, 所以可以看到x\u001b[1m[\u001b[0m\u001b[1;36m1\u001b[0m\u001b[1m]\u001b[0m和x\u001b[1m[\u001b[0m\u001b[1;36m6\u001b[0m\u001b[1m]\u001b[0m已经减至最低\n"
      ]
     },
     "metadata": {},
     "output_type": "display_data"
    },
    {
     "data": {
      "text/html": [
       "<div>\n",
       "<style scoped>\n",
       "    .dataframe tbody tr th:only-of-type {\n",
       "        vertical-align: middle;\n",
       "    }\n",
       "\n",
       "    .dataframe tbody tr th {\n",
       "        vertical-align: top;\n",
       "    }\n",
       "\n",
       "    .dataframe thead th {\n",
       "        text-align: right;\n",
       "    }\n",
       "</style>\n",
       "<table border=\"1\" class=\"dataframe\">\n",
       "  <thead>\n",
       "    <tr style=\"text-align: right;\">\n",
       "      <th></th>\n",
       "      <th>Slack or Surplus</th>\n",
       "      <th>DualPrice</th>\n",
       "    </tr>\n",
       "  </thead>\n",
       "  <tbody>\n",
       "    <tr>\n",
       "      <th>Milk</th>\n",
       "      <td>0.0</td>\n",
       "      <td>37.92</td>\n",
       "    </tr>\n",
       "    <tr>\n",
       "      <th>Time</th>\n",
       "      <td>0.0</td>\n",
       "      <td>3.26</td>\n",
       "    </tr>\n",
       "    <tr>\n",
       "      <th>CPCT</th>\n",
       "      <td>76.0</td>\n",
       "      <td>0.00</td>\n",
       "    </tr>\n",
       "    <tr>\n",
       "      <th>R3</th>\n",
       "      <td>0.0</td>\n",
       "      <td>44.00</td>\n",
       "    </tr>\n",
       "    <tr>\n",
       "      <th>R4</th>\n",
       "      <td>0.0</td>\n",
       "      <td>32.00</td>\n",
       "    </tr>\n",
       "  </tbody>\n",
       "</table>\n",
       "</div>"
      ],
      "text/plain": [
       "      Slack or Surplus  DualPrice\n",
       "Milk               0.0      37.92\n",
       "Time               0.0       3.26\n",
       "CPCT              76.0       0.00\n",
       "R3                 0.0      44.00\n",
       "R4                 0.0      32.00"
      ]
     },
     "metadata": {},
     "output_type": "display_data"
    },
    {
     "data": {
      "text/html": [
       "<pre style=\"white-space:pre;overflow-x:auto;line-height:normal;font-family:Menlo,'DejaVu Sans Mono',consolas,'Courier New',monospace\">这个表格说明了约束条件右侧系数对解的影响\n",
       "中间一栏是松弛变量, 就是约束条件右侧减左侧还剩多少, 可以理解为资源还剩多少, 等式约束显得没有意义\n",
       "右边一栏是影子价格, <span style=\"color: #800080; text-decoration-color: #800080; font-weight: bold\">表明目标对右侧系数</span><span style=\"font-weight: bold\">(</span>这种资源<span style=\"font-weight: bold\">)</span>的变化率, 具体在表格中就说明了增加一桶牛奶会带来37.92的收益\n",
       "这是求最大目标时的情况, 求最小时会不会反过来还没试过\n",
       "</pre>\n"
      ],
      "text/plain": [
       "这个表格说明了约束条件右侧系数对解的影响\n",
       "中间一栏是松弛变量, 就是约束条件右侧减左侧还剩多少, 可以理解为资源还剩多少, 等式约束显得没有意义\n",
       "右边一栏是影子价格, \u001b[1;35m表明目标对右侧系数\u001b[0m\u001b[1m(\u001b[0m这种资源\u001b[1m)\u001b[0m的变化率, 具体在表格中就说明了增加一桶牛奶会带来37.92的收益\n",
       "这是求最大目标时的情况, 求最小时会不会反过来还没试过\n"
      ]
     },
     "metadata": {},
     "output_type": "display_data"
    },
    {
     "data": {
      "text/html": [
       "<pre style=\"white-space:pre;overflow-x:auto;line-height:normal;font-family:Menlo,'DejaVu Sans Mono',consolas,'Courier New',monospace\">\n",
       "Ranges in which the basis is unchanged:\n",
       "</pre>\n"
      ],
      "text/plain": [
       "\n",
       "Ranges in which the basis is unchanged:\n"
      ]
     },
     "metadata": {},
     "output_type": "display_data"
    },
    {
     "data": {
      "text/html": [
       "<div>\n",
       "<style scoped>\n",
       "    .dataframe tbody tr th:only-of-type {\n",
       "        vertical-align: middle;\n",
       "    }\n",
       "\n",
       "    .dataframe tbody tr th {\n",
       "        vertical-align: top;\n",
       "    }\n",
       "\n",
       "    .dataframe thead th {\n",
       "        text-align: right;\n",
       "    }\n",
       "</style>\n",
       "<table border=\"1\" class=\"dataframe\">\n",
       "  <thead>\n",
       "    <tr style=\"text-align: right;\">\n",
       "      <th></th>\n",
       "      <th>Cofficient</th>\n",
       "      <th>Allowable Minimize</th>\n",
       "      <th>Allowable Maximize</th>\n",
       "    </tr>\n",
       "  </thead>\n",
       "  <tbody>\n",
       "    <tr>\n",
       "      <th>x[1]</th>\n",
       "      <td>24.0</td>\n",
       "      <td>-inf</td>\n",
       "      <td>25.680</td>\n",
       "    </tr>\n",
       "    <tr>\n",
       "      <th>x[2]</th>\n",
       "      <td>16.0</td>\n",
       "      <td>13.900</td>\n",
       "      <td>24.150</td>\n",
       "    </tr>\n",
       "    <tr>\n",
       "      <th>x[3]</th>\n",
       "      <td>44.0</td>\n",
       "      <td>40.833</td>\n",
       "      <td>63.750</td>\n",
       "    </tr>\n",
       "    <tr>\n",
       "      <th>x[4]</th>\n",
       "      <td>32.0</td>\n",
       "      <td>-inf</td>\n",
       "      <td>34.027</td>\n",
       "    </tr>\n",
       "    <tr>\n",
       "      <th>x[5]</th>\n",
       "      <td>-3.0</td>\n",
       "      <td>-5.533</td>\n",
       "      <td>12.800</td>\n",
       "    </tr>\n",
       "    <tr>\n",
       "      <th>x[6]</th>\n",
       "      <td>-3.0</td>\n",
       "      <td>-inf</td>\n",
       "      <td>-1.480</td>\n",
       "    </tr>\n",
       "  </tbody>\n",
       "</table>\n",
       "</div>"
      ],
      "text/plain": [
       "      Cofficient  Allowable Minimize  Allowable Maximize\n",
       "x[1]        24.0                -inf              25.680\n",
       "x[2]        16.0              13.900              24.150\n",
       "x[3]        44.0              40.833              63.750\n",
       "x[4]        32.0                -inf              34.027\n",
       "x[5]        -3.0              -5.533              12.800\n",
       "x[6]        -3.0                -inf              -1.480"
      ]
     },
     "metadata": {},
     "output_type": "display_data"
    },
    {
     "data": {
      "text/html": [
       "<pre style=\"white-space:pre;overflow-x:auto;line-height:normal;font-family:Menlo,'DejaVu Sans Mono',consolas,'Courier New',monospace\"><span style=\"color: #800080; text-decoration-color: #800080; font-weight: bold\">决策变量价值系数在什么范围内变动不会使最优解</span><span style=\"font-weight: bold\">(</span>决策变量取值<span style=\"font-weight: bold\">)</span>改变\n",
       "应该指的是控制其他不变只有这个变时的情况\n",
       "</pre>\n"
      ],
      "text/plain": [
       "\u001b[1;35m决策变量价值系数在什么范围内变动不会使最优解\u001b[0m\u001b[1m(\u001b[0m决策变量取值\u001b[1m)\u001b[0m改变\n",
       "应该指的是控制其他不变只有这个变时的情况\n"
      ]
     },
     "metadata": {},
     "output_type": "display_data"
    },
    {
     "data": {
      "text/html": [
       "<pre style=\"white-space:pre;overflow-x:auto;line-height:normal;font-family:Menlo,'DejaVu Sans Mono',consolas,'Courier New',monospace\">Righthand Side Ranges:\n",
       "</pre>\n"
      ],
      "text/plain": [
       "Righthand Side Ranges:\n"
      ]
     },
     "metadata": {},
     "output_type": "display_data"
    },
    {
     "data": {
      "text/html": [
       "<div>\n",
       "<style scoped>\n",
       "    .dataframe tbody tr th:only-of-type {\n",
       "        vertical-align: middle;\n",
       "    }\n",
       "\n",
       "    .dataframe tbody tr th {\n",
       "        vertical-align: top;\n",
       "    }\n",
       "\n",
       "    .dataframe thead th {\n",
       "        text-align: right;\n",
       "    }\n",
       "</style>\n",
       "<table border=\"1\" class=\"dataframe\">\n",
       "  <thead>\n",
       "    <tr style=\"text-align: right;\">\n",
       "      <th></th>\n",
       "      <th>RHS</th>\n",
       "      <th>Allowable Minimize</th>\n",
       "      <th>Allowable Maximize</th>\n",
       "    </tr>\n",
       "  </thead>\n",
       "  <tbody>\n",
       "    <tr>\n",
       "      <th>Milk</th>\n",
       "      <td>50.0</td>\n",
       "      <td>26.667</td>\n",
       "      <td>60.000</td>\n",
       "    </tr>\n",
       "    <tr>\n",
       "      <th>Time</th>\n",
       "      <td>480.0</td>\n",
       "      <td>400.000</td>\n",
       "      <td>733.333</td>\n",
       "    </tr>\n",
       "    <tr>\n",
       "      <th>CPCT</th>\n",
       "      <td>100.0</td>\n",
       "      <td>24.000</td>\n",
       "      <td>inf</td>\n",
       "    </tr>\n",
       "    <tr>\n",
       "      <th>R3</th>\n",
       "      <td>0.0</td>\n",
       "      <td>-19.200</td>\n",
       "      <td>inf</td>\n",
       "    </tr>\n",
       "    <tr>\n",
       "      <th>R4</th>\n",
       "      <td>0.0</td>\n",
       "      <td>0.000</td>\n",
       "      <td>inf</td>\n",
       "    </tr>\n",
       "  </tbody>\n",
       "</table>\n",
       "</div>"
      ],
      "text/plain": [
       "        RHS  Allowable Minimize  Allowable Maximize\n",
       "Milk   50.0              26.667              60.000\n",
       "Time  480.0             400.000             733.333\n",
       "CPCT  100.0              24.000                 inf\n",
       "R3      0.0             -19.200                 inf\n",
       "R4      0.0               0.000                 inf"
      ]
     },
     "metadata": {},
     "output_type": "display_data"
    }
   ],
   "source": [
    "model = gp.Model()\n",
    "x = model.addVars(range(1, 7), name='x')\n",
    "model.update()\n",
    "Const = [24, 16, 44, 32, -3, -3]\n",
    "model.setObjective(sum(x[i+1] * Const[i] for i in range(6)), sense=gp.GRB.MAXIMIZE)\n",
    "\n",
    "model.addConstr(1/3 * (x[1]+x[5]) + 1/4 * (x[2]+x[6]) <= 50, name='Milk')\n",
    "model.addConstr(4 * (x[1]+x[5]) + 2 * (x[2]+x[6]) + 2 * (x[5]+x[6]) <= 480, name='Time')\n",
    "model.addConstr(x[1] + x[5] <= 100, name='CPCT')\n",
    "model.addConstr(x[3] - 0.8 * x[5] == 0)\n",
    "model.addConstr(x[4] - 3/4 * x[6] == 0)\n",
    "# x默认大于等于0\n",
    "model.optimize()\n",
    "LP_Model_Analysis(model)"
   ]
  }
 ],
 "metadata": {
  "kernelspec": {
   "display_name": "Python 3",
   "language": "python",
   "name": "python3"
  },
  "language_info": {
   "codemirror_mode": {
    "name": "ipython",
    "version": 3
   },
   "file_extension": ".py",
   "mimetype": "text/x-python",
   "name": "python",
   "nbconvert_exporter": "python",
   "pygments_lexer": "ipython3",
   "version": "3.11.2"
  },
  "orig_nbformat": 4
 },
 "nbformat": 4,
 "nbformat_minor": 2
}
